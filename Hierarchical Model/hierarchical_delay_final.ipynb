{
 "cells": [
  {
   "cell_type": "code",
   "execution_count": 1,
   "metadata": {},
   "outputs": [],
   "source": [
    "#This performs Hierarchical modeling on a partially-observed birth-death process 0->X->0 with birth parameter A and death parameter B.\n",
    "import pandas as pd\n",
    "import numpy as np\n",
    "import math\n",
    "import matplotlib.pyplot as plt\n",
    "from statsmodels.graphics.tsaplots import plot_acf\n",
    "from scipy.stats import gamma\n",
    "from scipy.stats import poisson\n",
    "from scipy.stats import skellam\n",
    "import scipy.integrate as integrate\n",
    "import scipy.special as special"
   ]
  },
  {
   "cell_type": "code",
   "execution_count": 2,
   "metadata": {},
   "outputs": [],
   "source": [
    "#import saved data\n",
    "pd_subsampled_x=pd.read_csv(\"subsampled.csv\")\n",
    "x= pd_subsampled_x.values\n",
    "size=np.shape(x)"
   ]
  },
  {
   "cell_type": "code",
   "execution_count": 3,
   "metadata": {},
   "outputs": [],
   "source": [
    "L=1000      #length of the chain\n",
    "#I=size[0]    #[0,I-1] is the observation window\n",
    "#M=size[1]    #number of individuals\n",
    "#initializations\n",
    "M=3\n",
    "I=100\n",
    "A=np.zeros((L,M))               #birth parameter\n",
    "B=np.zeros((L,M))               #death parameter\n",
    "alpha=np.zeros((L,M))           #alpha parameter\n",
    "beta=np.zeros((L,M))            #beta parameter\n",
    "a_A=np.zeros(L+1)               #birth shape hyperparameter\n",
    "a_B=np.zeros(L+1)               #death shape hyperparameter\n",
    "b_A=np.zeros(L+1)               #birth scale hyperparameter\n",
    "b_B=np.zeros(L+1)               #death scale hyperparameter\n",
    "a_alpha=np.zeros(L+1)           #alpha shape hyperparameter\n",
    "a_beta=np.zeros(L+1)            #beta shape hyperparameter\n",
    "b_alpha=np.zeros(L+1)           #alpha scale hyperparameter\n",
    "b_beta=np.zeros(L+1)            #beta scale hyperparameter\n",
    "r=np.zeros((2,I-1,M))     #reaction numbers\n",
    "sum_x=np.zeros(M)   \n",
    "var_a_A=2                      #birth shape hyperparameter proposal variance\n",
    "var_a_B=2                       #death shape hyperparameter proposal variance\n",
    "var_alpha=2                       #birth shape hyperparameter proposal variance\n",
    "var_beta=2                       #death shape hyperparameter proposal variance\n",
    "var_a_alpha=2\n",
    "var_a_beta=2\n",
    "tune=200                        #reaction proposal tuning parameter\n",
    "#initial conditions\n",
    "A[0,:]=1\n",
    "B[0,:]=1\n",
    "alpha[0,:]=1\n",
    "beta[0,:]=1\n",
    "a_A[0]=1\n",
    "b_A[0]=1 \n",
    "a_B[0]=1\n",
    "b_B[0]=1\n",
    "a_alpha[0]=1\n",
    "b_alpha[0]=1\n",
    "a_beta[0]=1\n",
    "b_beta[0]=1"
   ]
  },
  {
   "cell_type": "markdown",
   "metadata": {},
   "source": [
    "alpha[0,:]=np.load('alpha2.npy')\n",
    "beta[0,:]=np.load('beta2.npy')"
   ]
  },
  {
   "cell_type": "code",
   "execution_count": 4,
   "metadata": {},
   "outputs": [],
   "source": [
    "def init_reaction(x,s):         #initialize reaction numbers           \n",
    "    q=np.zeros([2,s-1])\n",
    "    for i in range(s-1):\n",
    "        if x[i+1]-x[i]>0:\n",
    "            q[0,i]=np.floor((4/3)*(x[i+1]-x[i]))\n",
    "            q[1,i]=np.floor((1/3)*(x[i+1]-x[i]))\n",
    "        else:\n",
    "            q[0,i]=-np.floor((1/3)*(x[i+1]-x[i]))\n",
    "            q[1,i]=-np.floor((4/3)*(x[i+1]-x[i]))\n",
    "    r=q.astype(int)        \n",
    "    return r  \n",
    "\n",
    "def accept_rate_react(x,r,prop,i,A,B,jump,b,alpha,beta):        #acceptance rate for reaction numbers\n",
    "    lambda_prop=1+(prop[0]**2)/b\n",
    "    lambda_cur=1+(r[0]**2)/b\n",
    "    delay_factor=int_gammainc(alpha,beta,i)\n",
    "    prop_like=np.log(poisson.pmf(prop[0],A*delay_factor)+1e-300)+np.log(poisson.pmf(prop[1],0.5*B*(x[0]+x[1]))+1e-300)+np.log(skellam.pmf(abs(jump),lambda_prop,lambda_prop)+1e-300)\n",
    "    current_like=np.log(poisson.pmf(r[0],A*delay_factor)+1e-300)+np.log(poisson.pmf(r[1],0.5*B*(x[0]+x[1]))+1e-300)+np.log(skellam.pmf(abs(jump),lambda_cur,lambda_cur)+1e-300)\n",
    "    rate=np.minimum(1,np.exp(prop_like-current_like))\n",
    "    return rate\n",
    "\n",
    "def a_lik(A,a,b):           #shape hyperparameter likelihood function \n",
    "    sum1=0\n",
    "    M=len(A)\n",
    "    for s in range(M):\n",
    "        sum1+=np.log(A[s])\n",
    "    sum1*=(a-1)\n",
    "    q=-M*np.log(math.gamma(a))+M*a*np.log(b)+sum1\n",
    "    return q\n",
    "\n",
    "def alpha_lik(alpha,beta,A,a,b,I,r):      #alpha loglikelihood\n",
    "    sum_int_gammainc=0\n",
    "    sum_log_gammainc=0\n",
    "    for jj in range(I-1):\n",
    "        kappa=int_gammainc(alpha,beta,jj)\n",
    "        log_kappa=r[jj]*np.log(kappa+1e-300)\n",
    "        sum_int_gammainc+=kappa\n",
    "        sum_log_gammainc+=log_kappa\n",
    "    q=sum_log_gammainc-(A*sum_int_gammainc)+((a-1)*np.log(alpha))-alpha*b    \n",
    "    return q\n",
    "\n",
    "def beta_lik(alpha,beta,A,a,b,I,r):    #beta loglikelihood\n",
    "    sum_int_gammainc=0\n",
    "    sum_log_gammainc=0\n",
    "    for jj in range(I-1):\n",
    "        kappa=int_gammainc(alpha,beta,jj)\n",
    "        log_kappa=r[jj]*np.log(kappa+1e-300)\n",
    "        sum_int_gammainc+=kappa\n",
    "        sum_log_gammainc+=log_kappa\n",
    "    q=sum_log_gammainc-(A*sum_int_gammainc)+((a-1)*np.log(beta))-beta*b    \n",
    "    return q\n",
    "\n",
    "def int_gammainc(alpha,beta,m):\n",
    "    k,s=integrate.quad(lambda x: gamma.cdf(x,alpha,beta**(-1)),m,m+1)\n",
    "    return k"
   ]
  },
  {
   "cell_type": "code",
   "execution_count": 5,
   "metadata": {},
   "outputs": [],
   "source": [
    "#initialize number of reactions\n",
    "for s in range(M):\n",
    "    r[:,:,s]= init_reaction(x[:,s],I)\n",
    "    sum_x[s]=x[0,s]+x[I-1,s]\n",
    "    for j in range(I-2):\n",
    "        sum_x[s]+=2*x[j+1,s]\n",
    "    sum_x[s]=0.5*sum_x[s]    \n",
    "#r=np.load('react2.npy') \n",
    "#print(r)"
   ]
  },
  {
   "cell_type": "code",
   "execution_count": 6,
   "metadata": {},
   "outputs": [
    {
     "name": "stdout",
     "output_type": "stream",
     "text": [
      "1 birth 1.0 0.1534099638316179 death 0.8356801274909419 1.8862490400802594\n",
      "1 alpha 2.060780076537152 1.413653864019255 beta 1.0 0.4505551065540977\n",
      "%%%%%%%%%%%%%%%%%next%%%%%%%%%%%%%%%%\n",
      "11 birth 1.1355126398204756 0.41186970938934114 death 1.0240822921405788 5.0972486877946075\n",
      "11 alpha 5.523320020031434 2.105805160712806 beta 1.1307841945323354 0.4390948523825874\n",
      "%%%%%%%%%%%%%%%%%next%%%%%%%%%%%%%%%%\n",
      "21 birth 2.8206754133378142 1.195440275054632 death 4.158471116559137 32.947774753667936\n",
      "21 alpha 7.803555162821947 2.974992228239485 beta 0.9397771204849321 0.12666160683667363\n",
      "%%%%%%%%%%%%%%%%%next%%%%%%%%%%%%%%%%\n",
      "31 birth 5.379439820449292 1.6825438591974364 death 1.230763321341695 8.182957045282338\n",
      "31 alpha 10.818509419111875 4.344954028655923 beta 0.7851817446027469 0.426201473156848\n",
      "%%%%%%%%%%%%%%%%%next%%%%%%%%%%%%%%%%\n",
      "41 birth 9.17002350518447 2.2455799905040705 death 5.923445691255309 39.524076814888424\n",
      "41 alpha 14.0908262226219 4.009726893771449 beta 3.1553620745050903 0.45567236515790527\n",
      "%%%%%%%%%%%%%%%%%next%%%%%%%%%%%%%%%%\n",
      "51 birth 5.38522692528413 1.4042574632469522 death 2.2997803972464888 19.81590561339711\n",
      "51 alpha 14.90436499166783 2.772398505515689 beta 3.101007671504333 0.4504874240968198\n",
      "%%%%%%%%%%%%%%%%%next%%%%%%%%%%%%%%%%\n",
      "61 birth 3.450050629890012 0.7641908943585876 death 3.362984745875998 15.698561538404347\n",
      "61 alpha 16.339644501518887 2.889612379840657 beta 1.9521122929889325 0.4243026116037193\n",
      "%%%%%%%%%%%%%%%%%next%%%%%%%%%%%%%%%%\n",
      "71 birth 5.1158745090995295 1.0173690706768301 death 2.1769299695822184 5.28178722396483\n",
      "71 alpha 15.731692668911089 4.52449061982623 beta 2.7665887422042728 0.319212239825788\n",
      "%%%%%%%%%%%%%%%%%next%%%%%%%%%%%%%%%%\n",
      "81 birth 7.148291378010205 1.0818846523138623 death 2.061539287779355 20.363862050528343\n",
      "81 alpha 15.656787921490611 4.254726861212436 beta 6.246283793278963 1.4852705155024366\n",
      "%%%%%%%%%%%%%%%%%next%%%%%%%%%%%%%%%%\n",
      "91 birth 5.707824716708943 0.8643443543269039 death 6.606722703453016 27.72693618784154\n",
      "91 alpha 9.107332483388715 2.356891663116689 beta 6.712134958459483 1.408692814639442\n",
      "%%%%%%%%%%%%%%%%%next%%%%%%%%%%%%%%%%\n",
      "101 birth 4.932931506179924 0.8358828923906167 death 3.812813866125228 13.77333108006144\n",
      "101 alpha 6.552218432494304 0.70236113457652 beta 4.339242069197015 0.3587026053080647\n",
      "%%%%%%%%%%%%%%%%%next%%%%%%%%%%%%%%%%\n",
      "111 birth 3.279077205467379 0.44169487240213273 death 3.58198345150251 20.725027460039303\n",
      "111 alpha 8.777480298968898 2.1784533327667313 beta 2.719153807970171 0.2953918618937157\n",
      "%%%%%%%%%%%%%%%%%next%%%%%%%%%%%%%%%%\n"
     ]
    },
    {
     "ename": "KeyboardInterrupt",
     "evalue": "",
     "output_type": "error",
     "traceback": [
      "\u001b[1;31m---------------------------------------------------------------------------\u001b[0m",
      "\u001b[1;31mKeyboardInterrupt\u001b[0m                         Traceback (most recent call last)",
      "\u001b[1;32m<ipython-input-6-1977f3dfee7b>\u001b[0m in \u001b[0;36m<module>\u001b[1;34m\u001b[0m\n\u001b[0;32m     18\u001b[0m             \u001b[0malpha_prop\u001b[0m\u001b[1;33m=\u001b[0m\u001b[0malpha\u001b[0m\u001b[1;33m[\u001b[0m\u001b[0mi\u001b[0m\u001b[1;33m,\u001b[0m\u001b[0ms\u001b[0m\u001b[1;33m]\u001b[0m\u001b[1;33m+\u001b[0m\u001b[0mnp\u001b[0m\u001b[1;33m.\u001b[0m\u001b[0mrandom\u001b[0m\u001b[1;33m.\u001b[0m\u001b[0mnormal\u001b[0m\u001b[1;33m(\u001b[0m\u001b[1;36m0\u001b[0m\u001b[1;33m,\u001b[0m\u001b[0mvar_alpha\u001b[0m\u001b[1;33m)\u001b[0m\u001b[1;33m\u001b[0m\u001b[1;33m\u001b[0m\u001b[0m\n\u001b[0;32m     19\u001b[0m         \u001b[0ma\u001b[0m\u001b[1;33m=\u001b[0m\u001b[0malpha_lik\u001b[0m\u001b[1;33m(\u001b[0m\u001b[0malpha_prop\u001b[0m\u001b[1;33m,\u001b[0m\u001b[0mbeta\u001b[0m\u001b[1;33m[\u001b[0m\u001b[0mi\u001b[0m\u001b[1;33m,\u001b[0m\u001b[0ms\u001b[0m\u001b[1;33m]\u001b[0m\u001b[1;33m,\u001b[0m\u001b[0mA\u001b[0m\u001b[1;33m[\u001b[0m\u001b[0mi\u001b[0m\u001b[1;33m+\u001b[0m\u001b[1;36m1\u001b[0m\u001b[1;33m,\u001b[0m\u001b[0ms\u001b[0m\u001b[1;33m]\u001b[0m\u001b[1;33m,\u001b[0m\u001b[0ma_alpha\u001b[0m\u001b[1;33m[\u001b[0m\u001b[0mi\u001b[0m\u001b[1;33m]\u001b[0m\u001b[1;33m,\u001b[0m\u001b[0mb_alpha\u001b[0m\u001b[1;33m[\u001b[0m\u001b[0mi\u001b[0m\u001b[1;33m]\u001b[0m\u001b[1;33m,\u001b[0m\u001b[0mI\u001b[0m\u001b[1;33m,\u001b[0m\u001b[0mr\u001b[0m\u001b[1;33m[\u001b[0m\u001b[1;36m0\u001b[0m\u001b[1;33m,\u001b[0m\u001b[1;33m:\u001b[0m\u001b[1;33m,\u001b[0m\u001b[0ms\u001b[0m\u001b[1;33m]\u001b[0m\u001b[1;33m)\u001b[0m\u001b[1;33m\u001b[0m\u001b[1;33m\u001b[0m\u001b[0m\n\u001b[1;32m---> 20\u001b[1;33m         \u001b[0mb\u001b[0m\u001b[1;33m=\u001b[0m\u001b[0malpha_lik\u001b[0m\u001b[1;33m(\u001b[0m\u001b[0malpha\u001b[0m\u001b[1;33m[\u001b[0m\u001b[0mi\u001b[0m\u001b[1;33m,\u001b[0m\u001b[0ms\u001b[0m\u001b[1;33m]\u001b[0m\u001b[1;33m,\u001b[0m\u001b[0mbeta\u001b[0m\u001b[1;33m[\u001b[0m\u001b[0mi\u001b[0m\u001b[1;33m,\u001b[0m\u001b[0ms\u001b[0m\u001b[1;33m]\u001b[0m\u001b[1;33m,\u001b[0m\u001b[0mA\u001b[0m\u001b[1;33m[\u001b[0m\u001b[0mi\u001b[0m\u001b[1;33m+\u001b[0m\u001b[1;36m1\u001b[0m\u001b[1;33m,\u001b[0m\u001b[0ms\u001b[0m\u001b[1;33m]\u001b[0m\u001b[1;33m,\u001b[0m\u001b[0ma_alpha\u001b[0m\u001b[1;33m[\u001b[0m\u001b[0mi\u001b[0m\u001b[1;33m]\u001b[0m\u001b[1;33m,\u001b[0m\u001b[0mb_alpha\u001b[0m\u001b[1;33m[\u001b[0m\u001b[0mi\u001b[0m\u001b[1;33m]\u001b[0m\u001b[1;33m,\u001b[0m\u001b[0mI\u001b[0m\u001b[1;33m,\u001b[0m\u001b[0mr\u001b[0m\u001b[1;33m[\u001b[0m\u001b[1;36m0\u001b[0m\u001b[1;33m,\u001b[0m\u001b[1;33m:\u001b[0m\u001b[1;33m,\u001b[0m\u001b[0ms\u001b[0m\u001b[1;33m]\u001b[0m\u001b[1;33m)\u001b[0m\u001b[1;33m\u001b[0m\u001b[1;33m\u001b[0m\u001b[0m\n\u001b[0m\u001b[0;32m     21\u001b[0m         \u001b[0mrate\u001b[0m\u001b[1;33m=\u001b[0m\u001b[0mnp\u001b[0m\u001b[1;33m.\u001b[0m\u001b[0mminimum\u001b[0m\u001b[1;33m(\u001b[0m\u001b[1;36m1\u001b[0m\u001b[1;33m,\u001b[0m\u001b[0mnp\u001b[0m\u001b[1;33m.\u001b[0m\u001b[0mexp\u001b[0m\u001b[1;33m(\u001b[0m\u001b[0ma\u001b[0m\u001b[1;33m-\u001b[0m\u001b[0mb\u001b[0m\u001b[1;33m)\u001b[0m\u001b[1;33m)\u001b[0m\u001b[1;33m\u001b[0m\u001b[1;33m\u001b[0m\u001b[0m\n\u001b[0;32m     22\u001b[0m         \u001b[1;31m#print(rate)\u001b[0m\u001b[1;33m\u001b[0m\u001b[1;33m\u001b[0m\u001b[1;33m\u001b[0m\u001b[0m\n",
      "\u001b[1;32m<ipython-input-4-41358b976921>\u001b[0m in \u001b[0;36malpha_lik\u001b[1;34m(alpha, beta, A, a, b, I, r)\u001b[0m\n\u001b[0;32m     33\u001b[0m     \u001b[0msum_log_gammainc\u001b[0m\u001b[1;33m=\u001b[0m\u001b[1;36m0\u001b[0m\u001b[1;33m\u001b[0m\u001b[1;33m\u001b[0m\u001b[0m\n\u001b[0;32m     34\u001b[0m     \u001b[1;32mfor\u001b[0m \u001b[0mjj\u001b[0m \u001b[1;32min\u001b[0m \u001b[0mrange\u001b[0m\u001b[1;33m(\u001b[0m\u001b[0mI\u001b[0m\u001b[1;33m-\u001b[0m\u001b[1;36m1\u001b[0m\u001b[1;33m)\u001b[0m\u001b[1;33m:\u001b[0m\u001b[1;33m\u001b[0m\u001b[1;33m\u001b[0m\u001b[0m\n\u001b[1;32m---> 35\u001b[1;33m         \u001b[0mkappa\u001b[0m\u001b[1;33m=\u001b[0m\u001b[0mint_gammainc\u001b[0m\u001b[1;33m(\u001b[0m\u001b[0malpha\u001b[0m\u001b[1;33m,\u001b[0m\u001b[0mbeta\u001b[0m\u001b[1;33m,\u001b[0m\u001b[0mjj\u001b[0m\u001b[1;33m)\u001b[0m\u001b[1;33m\u001b[0m\u001b[1;33m\u001b[0m\u001b[0m\n\u001b[0m\u001b[0;32m     36\u001b[0m         \u001b[0mlog_kappa\u001b[0m\u001b[1;33m=\u001b[0m\u001b[0mr\u001b[0m\u001b[1;33m[\u001b[0m\u001b[0mjj\u001b[0m\u001b[1;33m]\u001b[0m\u001b[1;33m*\u001b[0m\u001b[0mnp\u001b[0m\u001b[1;33m.\u001b[0m\u001b[0mlog\u001b[0m\u001b[1;33m(\u001b[0m\u001b[0mkappa\u001b[0m\u001b[1;33m+\u001b[0m\u001b[1;36m1e-300\u001b[0m\u001b[1;33m)\u001b[0m\u001b[1;33m\u001b[0m\u001b[1;33m\u001b[0m\u001b[0m\n\u001b[0;32m     37\u001b[0m         \u001b[0msum_int_gammainc\u001b[0m\u001b[1;33m+=\u001b[0m\u001b[0mkappa\u001b[0m\u001b[1;33m\u001b[0m\u001b[1;33m\u001b[0m\u001b[0m\n",
      "\u001b[1;32m<ipython-input-4-41358b976921>\u001b[0m in \u001b[0;36mint_gammainc\u001b[1;34m(alpha, beta, m)\u001b[0m\n\u001b[0;32m     52\u001b[0m \u001b[1;33m\u001b[0m\u001b[0m\n\u001b[0;32m     53\u001b[0m \u001b[1;32mdef\u001b[0m \u001b[0mint_gammainc\u001b[0m\u001b[1;33m(\u001b[0m\u001b[0malpha\u001b[0m\u001b[1;33m,\u001b[0m\u001b[0mbeta\u001b[0m\u001b[1;33m,\u001b[0m\u001b[0mm\u001b[0m\u001b[1;33m)\u001b[0m\u001b[1;33m:\u001b[0m\u001b[1;33m\u001b[0m\u001b[1;33m\u001b[0m\u001b[0m\n\u001b[1;32m---> 54\u001b[1;33m     \u001b[0mk\u001b[0m\u001b[1;33m,\u001b[0m\u001b[0ms\u001b[0m\u001b[1;33m=\u001b[0m\u001b[0mintegrate\u001b[0m\u001b[1;33m.\u001b[0m\u001b[0mquad\u001b[0m\u001b[1;33m(\u001b[0m\u001b[1;32mlambda\u001b[0m \u001b[0mx\u001b[0m\u001b[1;33m:\u001b[0m \u001b[0mgamma\u001b[0m\u001b[1;33m.\u001b[0m\u001b[0mcdf\u001b[0m\u001b[1;33m(\u001b[0m\u001b[0mx\u001b[0m\u001b[1;33m,\u001b[0m\u001b[0malpha\u001b[0m\u001b[1;33m,\u001b[0m\u001b[0mbeta\u001b[0m\u001b[1;33m**\u001b[0m\u001b[1;33m(\u001b[0m\u001b[1;33m-\u001b[0m\u001b[1;36m1\u001b[0m\u001b[1;33m)\u001b[0m\u001b[1;33m)\u001b[0m\u001b[1;33m,\u001b[0m\u001b[0mm\u001b[0m\u001b[1;33m,\u001b[0m\u001b[0mm\u001b[0m\u001b[1;33m+\u001b[0m\u001b[1;36m1\u001b[0m\u001b[1;33m)\u001b[0m\u001b[1;33m\u001b[0m\u001b[1;33m\u001b[0m\u001b[0m\n\u001b[0m\u001b[0;32m     55\u001b[0m     \u001b[1;32mreturn\u001b[0m \u001b[0mk\u001b[0m\u001b[1;33m\u001b[0m\u001b[1;33m\u001b[0m\u001b[0m\n",
      "\u001b[1;32mC:\\ProgramData\\Anaconda3\\lib\\site-packages\\scipy\\integrate\\quadpack.py\u001b[0m in \u001b[0;36mquad\u001b[1;34m(func, a, b, args, full_output, epsabs, epsrel, limit, points, weight, wvar, wopts, maxp1, limlst)\u001b[0m\n\u001b[0;32m    339\u001b[0m     \u001b[1;32mif\u001b[0m \u001b[0mweight\u001b[0m \u001b[1;32mis\u001b[0m \u001b[1;32mNone\u001b[0m\u001b[1;33m:\u001b[0m\u001b[1;33m\u001b[0m\u001b[1;33m\u001b[0m\u001b[0m\n\u001b[0;32m    340\u001b[0m         retval = _quad(func, a, b, args, full_output, epsabs, epsrel, limit,\n\u001b[1;32m--> 341\u001b[1;33m                        points)\n\u001b[0m\u001b[0;32m    342\u001b[0m     \u001b[1;32melse\u001b[0m\u001b[1;33m:\u001b[0m\u001b[1;33m\u001b[0m\u001b[1;33m\u001b[0m\u001b[0m\n\u001b[0;32m    343\u001b[0m         retval = _quad_weight(func, a, b, args, full_output, epsabs, epsrel,\n",
      "\u001b[1;32mC:\\ProgramData\\Anaconda3\\lib\\site-packages\\scipy\\integrate\\quadpack.py\u001b[0m in \u001b[0;36m_quad\u001b[1;34m(func, a, b, args, full_output, epsabs, epsrel, limit, points)\u001b[0m\n\u001b[0;32m    446\u001b[0m     \u001b[1;32mif\u001b[0m \u001b[0mpoints\u001b[0m \u001b[1;32mis\u001b[0m \u001b[1;32mNone\u001b[0m\u001b[1;33m:\u001b[0m\u001b[1;33m\u001b[0m\u001b[1;33m\u001b[0m\u001b[0m\n\u001b[0;32m    447\u001b[0m         \u001b[1;32mif\u001b[0m \u001b[0minfbounds\u001b[0m \u001b[1;33m==\u001b[0m \u001b[1;36m0\u001b[0m\u001b[1;33m:\u001b[0m\u001b[1;33m\u001b[0m\u001b[1;33m\u001b[0m\u001b[0m\n\u001b[1;32m--> 448\u001b[1;33m             \u001b[1;32mreturn\u001b[0m \u001b[0m_quadpack\u001b[0m\u001b[1;33m.\u001b[0m\u001b[0m_qagse\u001b[0m\u001b[1;33m(\u001b[0m\u001b[0mfunc\u001b[0m\u001b[1;33m,\u001b[0m\u001b[0ma\u001b[0m\u001b[1;33m,\u001b[0m\u001b[0mb\u001b[0m\u001b[1;33m,\u001b[0m\u001b[0margs\u001b[0m\u001b[1;33m,\u001b[0m\u001b[0mfull_output\u001b[0m\u001b[1;33m,\u001b[0m\u001b[0mepsabs\u001b[0m\u001b[1;33m,\u001b[0m\u001b[0mepsrel\u001b[0m\u001b[1;33m,\u001b[0m\u001b[0mlimit\u001b[0m\u001b[1;33m)\u001b[0m\u001b[1;33m\u001b[0m\u001b[1;33m\u001b[0m\u001b[0m\n\u001b[0m\u001b[0;32m    449\u001b[0m         \u001b[1;32melse\u001b[0m\u001b[1;33m:\u001b[0m\u001b[1;33m\u001b[0m\u001b[1;33m\u001b[0m\u001b[0m\n\u001b[0;32m    450\u001b[0m             \u001b[1;32mreturn\u001b[0m \u001b[0m_quadpack\u001b[0m\u001b[1;33m.\u001b[0m\u001b[0m_qagie\u001b[0m\u001b[1;33m(\u001b[0m\u001b[0mfunc\u001b[0m\u001b[1;33m,\u001b[0m\u001b[0mbound\u001b[0m\u001b[1;33m,\u001b[0m\u001b[0minfbounds\u001b[0m\u001b[1;33m,\u001b[0m\u001b[0margs\u001b[0m\u001b[1;33m,\u001b[0m\u001b[0mfull_output\u001b[0m\u001b[1;33m,\u001b[0m\u001b[0mepsabs\u001b[0m\u001b[1;33m,\u001b[0m\u001b[0mepsrel\u001b[0m\u001b[1;33m,\u001b[0m\u001b[0mlimit\u001b[0m\u001b[1;33m)\u001b[0m\u001b[1;33m\u001b[0m\u001b[1;33m\u001b[0m\u001b[0m\n",
      "\u001b[1;32m<ipython-input-4-41358b976921>\u001b[0m in \u001b[0;36m<lambda>\u001b[1;34m(x)\u001b[0m\n\u001b[0;32m     52\u001b[0m \u001b[1;33m\u001b[0m\u001b[0m\n\u001b[0;32m     53\u001b[0m \u001b[1;32mdef\u001b[0m \u001b[0mint_gammainc\u001b[0m\u001b[1;33m(\u001b[0m\u001b[0malpha\u001b[0m\u001b[1;33m,\u001b[0m\u001b[0mbeta\u001b[0m\u001b[1;33m,\u001b[0m\u001b[0mm\u001b[0m\u001b[1;33m)\u001b[0m\u001b[1;33m:\u001b[0m\u001b[1;33m\u001b[0m\u001b[1;33m\u001b[0m\u001b[0m\n\u001b[1;32m---> 54\u001b[1;33m     \u001b[0mk\u001b[0m\u001b[1;33m,\u001b[0m\u001b[0ms\u001b[0m\u001b[1;33m=\u001b[0m\u001b[0mintegrate\u001b[0m\u001b[1;33m.\u001b[0m\u001b[0mquad\u001b[0m\u001b[1;33m(\u001b[0m\u001b[1;32mlambda\u001b[0m \u001b[0mx\u001b[0m\u001b[1;33m:\u001b[0m \u001b[0mgamma\u001b[0m\u001b[1;33m.\u001b[0m\u001b[0mcdf\u001b[0m\u001b[1;33m(\u001b[0m\u001b[0mx\u001b[0m\u001b[1;33m,\u001b[0m\u001b[0malpha\u001b[0m\u001b[1;33m,\u001b[0m\u001b[0mbeta\u001b[0m\u001b[1;33m**\u001b[0m\u001b[1;33m(\u001b[0m\u001b[1;33m-\u001b[0m\u001b[1;36m1\u001b[0m\u001b[1;33m)\u001b[0m\u001b[1;33m)\u001b[0m\u001b[1;33m,\u001b[0m\u001b[0mm\u001b[0m\u001b[1;33m,\u001b[0m\u001b[0mm\u001b[0m\u001b[1;33m+\u001b[0m\u001b[1;36m1\u001b[0m\u001b[1;33m)\u001b[0m\u001b[1;33m\u001b[0m\u001b[1;33m\u001b[0m\u001b[0m\n\u001b[0m\u001b[0;32m     55\u001b[0m     \u001b[1;32mreturn\u001b[0m \u001b[0mk\u001b[0m\u001b[1;33m\u001b[0m\u001b[1;33m\u001b[0m\u001b[0m\n",
      "\u001b[1;32mC:\\ProgramData\\Anaconda3\\lib\\site-packages\\scipy\\stats\\_distn_infrastructure.py\u001b[0m in \u001b[0;36mcdf\u001b[1;34m(self, x, *args, **kwds)\u001b[0m\n\u001b[0;32m   1753\u001b[0m         \u001b[1;32mif\u001b[0m \u001b[0mnp\u001b[0m\u001b[1;33m.\u001b[0m\u001b[0many\u001b[0m\u001b[1;33m(\u001b[0m\u001b[0mcond\u001b[0m\u001b[1;33m)\u001b[0m\u001b[1;33m:\u001b[0m  \u001b[1;31m# call only if at least 1 entry\u001b[0m\u001b[1;33m\u001b[0m\u001b[1;33m\u001b[0m\u001b[0m\n\u001b[0;32m   1754\u001b[0m             \u001b[0mgoodargs\u001b[0m \u001b[1;33m=\u001b[0m \u001b[0margsreduce\u001b[0m\u001b[1;33m(\u001b[0m\u001b[0mcond\u001b[0m\u001b[1;33m,\u001b[0m \u001b[1;33m*\u001b[0m\u001b[1;33m(\u001b[0m\u001b[1;33m(\u001b[0m\u001b[0mx\u001b[0m\u001b[1;33m,\u001b[0m\u001b[1;33m)\u001b[0m\u001b[1;33m+\u001b[0m\u001b[0margs\u001b[0m\u001b[1;33m)\u001b[0m\u001b[1;33m)\u001b[0m\u001b[1;33m\u001b[0m\u001b[1;33m\u001b[0m\u001b[0m\n\u001b[1;32m-> 1755\u001b[1;33m             \u001b[0mplace\u001b[0m\u001b[1;33m(\u001b[0m\u001b[0moutput\u001b[0m\u001b[1;33m,\u001b[0m \u001b[0mcond\u001b[0m\u001b[1;33m,\u001b[0m \u001b[0mself\u001b[0m\u001b[1;33m.\u001b[0m\u001b[0m_cdf\u001b[0m\u001b[1;33m(\u001b[0m\u001b[1;33m*\u001b[0m\u001b[0mgoodargs\u001b[0m\u001b[1;33m)\u001b[0m\u001b[1;33m)\u001b[0m\u001b[1;33m\u001b[0m\u001b[1;33m\u001b[0m\u001b[0m\n\u001b[0m\u001b[0;32m   1756\u001b[0m         \u001b[1;32mif\u001b[0m \u001b[0moutput\u001b[0m\u001b[1;33m.\u001b[0m\u001b[0mndim\u001b[0m \u001b[1;33m==\u001b[0m \u001b[1;36m0\u001b[0m\u001b[1;33m:\u001b[0m\u001b[1;33m\u001b[0m\u001b[1;33m\u001b[0m\u001b[0m\n\u001b[0;32m   1757\u001b[0m             \u001b[1;32mreturn\u001b[0m \u001b[0moutput\u001b[0m\u001b[1;33m[\u001b[0m\u001b[1;33m(\u001b[0m\u001b[1;33m)\u001b[0m\u001b[1;33m]\u001b[0m\u001b[1;33m\u001b[0m\u001b[1;33m\u001b[0m\u001b[0m\n",
      "\u001b[1;32mC:\\ProgramData\\Anaconda3\\lib\\site-packages\\numpy\\lib\\function_base.py\u001b[0m in \u001b[0;36mplace\u001b[1;34m(arr, mask, vals)\u001b[0m\n\u001b[0;32m   1605\u001b[0m                         \"not {name}\".format(name=type(arr).__name__))\n\u001b[0;32m   1606\u001b[0m \u001b[1;33m\u001b[0m\u001b[0m\n\u001b[1;32m-> 1607\u001b[1;33m     \u001b[1;32mreturn\u001b[0m \u001b[0m_insert\u001b[0m\u001b[1;33m(\u001b[0m\u001b[0marr\u001b[0m\u001b[1;33m,\u001b[0m \u001b[0mmask\u001b[0m\u001b[1;33m,\u001b[0m \u001b[0mvals\u001b[0m\u001b[1;33m)\u001b[0m\u001b[1;33m\u001b[0m\u001b[1;33m\u001b[0m\u001b[0m\n\u001b[0m\u001b[0;32m   1608\u001b[0m \u001b[1;33m\u001b[0m\u001b[0m\n\u001b[0;32m   1609\u001b[0m \u001b[1;33m\u001b[0m\u001b[0m\n",
      "\u001b[1;31mKeyboardInterrupt\u001b[0m: "
     ]
    }
   ],
   "source": [
    "#perform sampling       \n",
    "for i in range(L-1): \n",
    "    for s in range(M):\n",
    "        #gamma incomplete function values\n",
    "        sum_int_gammainc=0\n",
    "        for j in range(I-1):\n",
    "            sum_int_gammainc+=int_gammainc(alpha[i,s],beta[i,s],j)\n",
    "        #print(sum_int_gammainc)\n",
    "         \n",
    "        #sample parameters\n",
    "        A[i+1,s]=np.random.gamma(np.sum(r[0,:,s])+a_A[i],(sum_int_gammainc+b_A[i])**(-1))\n",
    "        B[i+1,s]=np.random.gamma(np.sum(r[1,:,s])+a_B[i],(sum_x[s]+b_B[i])**(-1))\n",
    "        #print('pass A,B')\n",
    "              \n",
    "        #update parameter alpha\n",
    "        alpha_prop=-1\n",
    "        while alpha_prop<0 or alpha_prop>170:\n",
    "            alpha_prop=alpha[i,s]+np.random.normal(0,var_alpha)\n",
    "        a=alpha_lik(alpha_prop,beta[i,s],A[i+1,s],a_alpha[i],b_alpha[i],I,r[0,:,s]) \n",
    "        b=alpha_lik(alpha[i,s],beta[i,s],A[i+1,s],a_alpha[i],b_alpha[i],I,r[0,:,s])\n",
    "        rate=np.minimum(1,np.exp(a-b))\n",
    "        #print(rate)\n",
    "        if np.random.uniform(0,1,1)<rate:    \n",
    "            alpha[i+1,s]=alpha_prop\n",
    "        else:\n",
    "            alpha[i+1,s]=alpha[i,s]\n",
    "        #print('pass alpha')\n",
    "        \n",
    "        #update parameter beta\n",
    "        beta_prop=-1\n",
    "        while beta_prop<0 or beta_prop>170:\n",
    "            beta_prop=beta[i,s]+np.random.normal(0,var_beta)\n",
    "        a=beta_lik(alpha[i+1,s],beta_prop,A[i+1,s],a_beta[i],b_beta[i],I,r[0,:,s])   \n",
    "        b=beta_lik(alpha[i+1,s],beta[i,s],A[i+1,s],a_beta[i],b_beta[i],I,r[0,:,s])\n",
    "        rate=np.minimum(1,np.exp(a-b))\n",
    "        #print(rate)\n",
    "        if np.random.uniform(0,1,1)<rate:    \n",
    "            beta[i+1,s]=beta_prop\n",
    "        else:\n",
    "            beta[i+1,s]=beta[i,s]\n",
    "        #print('pass beta')\n",
    "        \n",
    "        \n",
    "        #update reaction numbers\n",
    "        for j in range(I-1):\n",
    "            r_vprop=np.array([-1,-1])\n",
    "            lamb=1+(r[0,j,s]**2)/tune                 #tuning parameter suggested in Boy's paper \n",
    "            while r_vprop[0]<0 or r_vprop[1]<0:\n",
    "                jump=np.random.poisson(lamb)-np.random.poisson(lamb)\n",
    "                r_prop=r[0,j,s]+jump\n",
    "                r_vprop=[r_prop, r_prop-(x[j+1,s]-x[j,s])]    \n",
    "            rate=accept_rate_react([x[j,s],x[j+1,s]],r[:,j,s],r_vprop,j,A[i+1,s],B[i+1,s],jump,tune,alpha[i+1,s],beta[i+1,s]) \n",
    "            if np.random.uniform(0,1,1)<rate:\n",
    "                r[:,j,s]=r_vprop    \n",
    "        #print('pass r')   \n",
    "        \n",
    "    #sample hyperparameters a_A and a_B\n",
    "    a_Aprop=-1\n",
    "    while a_Aprop<0 or a_Aprop>170:\n",
    "        a_Aprop=a_A[i]+np.random.normal(0,var_a_A)\n",
    "    a=a_lik(A[i+1,:],a_Aprop,b_A[i]) \n",
    "    b=a_lik(A[i+1,:],a_A[i],b_A[i])\n",
    "    rate=np.minimum(1,np.exp(a-b))\n",
    "    if np.random.uniform(0,1,1)<rate:    \n",
    "        a_A[i+1]=a_Aprop\n",
    "    else:\n",
    "        a_A[i+1]=a_A[i]\n",
    "        \n",
    "    a_Bprop=-1\n",
    "    while a_Bprop<0 or a_Bprop>170:\n",
    "        a_Bprop=a_B[i]+np.random.normal(0,var_a_B)\n",
    "    a=a_lik(B[i+1,:],a_Bprop,b_B[i]) \n",
    "    b=a_lik(B[i+1,:],a_B[i],b_B[i])\n",
    "    rate=np.minimum(1,np.exp(a-b))\n",
    "    if np.random.uniform(0,1,1)<rate:    \n",
    "        a_B[i+1]=a_Bprop\n",
    "    else:\n",
    "        a_B[i+1]=a_B[i]    \n",
    "    #print('pass a_A,B')\n",
    "    \n",
    "    #sample hyperparameters a_alpha and a_beta\n",
    "    a_alphaprop=-1\n",
    "    while a_alphaprop<0 or a_alphaprop>170:\n",
    "        a_alphaprop=a_alpha[i]+np.random.normal(0,var_a_alpha)\n",
    "    a=a_lik(alpha[i+1,:],a_alphaprop,b_alpha[i]) \n",
    "    b=a_lik(alpha[i+1,:],a_alpha[i],b_alpha[i])\n",
    "    rate=np.minimum(1,np.exp(a-b))\n",
    "    if np.random.uniform(0,1,1)<rate:    \n",
    "        a_alpha[i+1]=a_alphaprop\n",
    "    else:\n",
    "        a_alpha[i+1]=a_alpha[i]\n",
    "        \n",
    "    a_betaprop=-1\n",
    "    while a_betaprop<0 or a_betaprop>170:\n",
    "        a_betaprop=a_beta[i]+np.random.normal(0,var_a_beta)\n",
    "    a=a_lik(beta[i+1,:],a_betaprop,b_beta[i]) \n",
    "    b=a_lik(beta[i+1,:],a_beta[i],b_beta[i])\n",
    "    rate=np.minimum(1,np.exp(a-b))\n",
    "    if np.random.uniform(0,1,1)<rate:    \n",
    "        a_beta[i+1]=a_betaprop\n",
    "    else:\n",
    "        a_beta[i+1]=a_beta[i]\n",
    "    #print('pass a_alpha,beta')\n",
    "    \n",
    "    #sample hyperparameters b_A, b_B, b_alpha, b_beta\n",
    "    sum1=np.sum(A[i+1,:])\n",
    "    sum2=np.sum(B[i+1,:])\n",
    "    sum3=np.sum(alpha[i+1,:])\n",
    "    sum4=np.sum(beta[i+1,:])\n",
    "    b_A[i+1]=np.random.gamma(M*a_A[i+1],sum1**(-1))\n",
    "    b_B[i+1]=np.random.gamma(M*a_B[i+1],sum2**(-1))\n",
    "    b_alpha[i+1]=np.random.gamma(M*a_alpha[i+1],sum3**(-1))\n",
    "    b_beta[i+1]=np.random.gamma(M*a_beta[i+1],sum4**(-1))\n",
    "    #print('pass b_A,B,alpha,beta')\n",
    "        \n",
    "    if i%10 == 0:  \n",
    "        print(i+1,'birth',a_A[i+1],b_A[i+1],'death',a_B[i+1],b_B[i+1]) \n",
    "        print(i+1,'alpha',a_alpha[i+1],b_alpha[i+1],'beta',a_beta[i+1],b_beta[i+1]) \n",
    "        print(\"%%%%%%%%%%%%%%%%%next%%%%%%%%%%%%%%%%\")\n",
    "    elif i == L-2:\n",
    "        print(i+1,'birth',a_A[i+1],b_A[i+1],'death',a_B[i+1],b_B[i+1]) \n",
    "        print(i+1,'alpha',a_alpha[i+1],b_alpha[i+1],'beta',a_beta[i+1],b_beta[i+1]) \n",
    "        print(\"%%%%%%%%%%%%%%%%%done%%%%%%%%%%%%%%%%\")"
   ]
  },
  {
   "cell_type": "code",
   "execution_count": null,
   "metadata": {},
   "outputs": [],
   "source": [
    "#save the simulated values into .csv files\n",
    "np.save('alpha2.npy',alpha[i-1,:])\n",
    "np.save('beta2.npy',beta[i-1,:])\n",
    "np.save('react2.npy',r) \n",
    "columns=' '\n",
    "np.savetxt(\"A21.csv\", A, delimiter=\",\",header=columns)\n",
    "np.savetxt(\"B21.csv\", B, delimiter=\",\",header=columns)\n",
    "np.savetxt(\"alpha21.csv\", alpha, delimiter=\",\",header=columns)\n",
    "np.savetxt(\"beta21.csv\", beta, delimiter=\",\",header=columns)\n",
    "np.savetxt(\"a_A21.csv\", a_A, delimiter=\",\",header=columns)\n",
    "np.savetxt(\"b_A21.csv\", b_A, delimiter=\",\",header=columns)\n",
    "np.savetxt(\"a_B21.csv\", a_B, delimiter=\",\",header=columns)\n",
    "np.savetxt(\"b_B21.csv\", b_B, delimiter=\",\",header=columns)\n",
    "np.savetxt(\"a_alpha21.csv\", a_alpha, delimiter=\",\",header=columns)\n",
    "np.savetxt(\"b_alpha21.csv\", b_alpha, delimiter=\",\",header=columns)\n",
    "np.savetxt(\"a_beta21.csv\", a_beta, delimiter=\",\",header=columns)\n",
    "np.savetxt(\"b_beta21.csv\", b_beta, delimiter=\",\",header=columns)"
   ]
  },
  {
   "cell_type": "code",
   "execution_count": null,
   "metadata": {},
   "outputs": [],
   "source": [
    "np.save('r.npy',r)"
   ]
  },
  {
   "cell_type": "code",
   "execution_count": null,
   "metadata": {},
   "outputs": [],
   "source": [
    "np.save('r.npy',r)\n",
    "np.save('A.npy',A)\n",
    "np.save('B.npy',B)\n",
    "np.save('alpha.npy',alpha)\n",
    "np.save('beta.npy',beta)\n",
    "np.save('a_A.npy',a_A)\n",
    "np.save('a_B.npy',a_B)\n",
    "np.save('b_A.npy',b_A)\n",
    "np.save('b_B.npy',b_B)\n",
    "np.save('a_alpha.npy',a_alpha)\n",
    "np.save('a_beta.npy',a_beta)\n",
    "np.save('b_alpha.npy',b_alpha)\n",
    "np.save('b_beta.npy',b_beta)"
   ]
  },
  {
   "cell_type": "code",
   "execution_count": null,
   "metadata": {},
   "outputs": [],
   "source": [
    "r=np.load('r.npy')\n",
    "A=np.load('A.npy')\n",
    "B=np.load('B.npy')\n",
    "alpha=np.load('alpha.npy')\n",
    "beta=np.load('beta.npy')\n",
    "a_A=np.load('a_A.npy')\n",
    "a_B=np.load('a_B.npy')\n",
    "b_A=np.load('b_A.npy')\n",
    "b_B=np.load('b_B.npy')\n",
    "a_alpha=np.load('a_alpha.npy')\n",
    "a_beta=np.load('a_beta.npy')\n",
    "b_alpha=np.load('b_alpha.npy')\n",
    "b_beta=np.load('b_beta.npy')"
   ]
  },
  {
   "cell_type": "code",
   "execution_count": null,
   "metadata": {},
   "outputs": [],
   "source": [
    "A=A[:i,:]\n",
    "B=B[:i,:]\n",
    "alpha=alpha[:i,:]\n",
    "beta=beta[:i,:]\n",
    "a_A=a_A[:i]\n",
    "a_B=a_B[:i]\n",
    "b_A=b_A[:i]\n",
    "b_B=b_B[:i]\n",
    "a_alpha=a_alpha[:i]\n",
    "a_beta=a_beta[:i]\n",
    "b_alpha=b_alpha[:i]\n",
    "b_beta=b_beta[:i]"
   ]
  },
  {
   "cell_type": "code",
   "execution_count": null,
   "metadata": {},
   "outputs": [],
   "source": [
    "plt.hist(A[:,1])\n",
    "plt.show()\n",
    "plt.hist(A[:,2])\n",
    "plt.show()\n",
    "plt.hist(A[:,3])\n",
    "plt.show()\n",
    "plt.hist(A[:,4])\n",
    "plt.show()\n",
    "plt.hist(A[:,5])\n",
    "plt.show()"
   ]
  },
  {
   "cell_type": "code",
   "execution_count": null,
   "metadata": {},
   "outputs": [],
   "source": [
    "plt.hist(B[:,1])\n",
    "plt.show()\n",
    "plt.hist(B[:,2])\n",
    "plt.show()\n",
    "plt.hist(B[:,3])\n",
    "plt.show()\n",
    "plt.hist(B[:,4])\n",
    "plt.show()\n",
    "plt.hist(B[:,5])\n",
    "plt.show()"
   ]
  },
  {
   "cell_type": "code",
   "execution_count": null,
   "metadata": {},
   "outputs": [],
   "source": [
    "plt.hist(alpha[:,1])\n",
    "plt.show()\n",
    "plt.hist(alpha[:,2])\n",
    "plt.show()\n",
    "plt.hist(alpha[:,3])\n",
    "plt.show()\n",
    "plt.hist(alpha[:,4])\n",
    "plt.show()\n",
    "plt.hist(alpha[:,5])\n",
    "plt.show()"
   ]
  },
  {
   "cell_type": "code",
   "execution_count": null,
   "metadata": {},
   "outputs": [],
   "source": [
    "plt.hist(beta[:,1])\n",
    "plt.show()\n",
    "plt.hist(beta[:,2])\n",
    "plt.show()\n",
    "plt.hist(beta[:,3])\n",
    "plt.show()\n",
    "plt.hist(beta[:,4])\n",
    "plt.show()\n",
    "plt.hist(beta[:,5])\n",
    "plt.show()"
   ]
  },
  {
   "cell_type": "code",
   "execution_count": null,
   "metadata": {},
   "outputs": [],
   "source": [
    "plt.hist(a_alpha)\n",
    "plt.show()\n",
    "plt.hist(b_alpha)\n",
    "plt.show()"
   ]
  },
  {
   "cell_type": "code",
   "execution_count": null,
   "metadata": {},
   "outputs": [],
   "source": [
    "plt.hist(a_beta)\n",
    "plt.show()\n",
    "plt.hist(b_beta)\n",
    "plt.show()"
   ]
  },
  {
   "cell_type": "code",
   "execution_count": null,
   "metadata": {},
   "outputs": [],
   "source": [
    "from statsmodels.graphics.tsaplots import plot_acf\n",
    "plot_acf(a_A,lags=len(a_A)-1)\n",
    "plot_acf(b_A,lags=len(b_A)-1)\n",
    "plt.show"
   ]
  },
  {
   "cell_type": "code",
   "execution_count": null,
   "metadata": {},
   "outputs": [],
   "source": [
    "r[:,:,6]"
   ]
  },
  {
   "cell_type": "code",
   "execution_count": null,
   "metadata": {},
   "outputs": [],
   "source": [
    "tA=np.load('trueA.npy')"
   ]
  },
  {
   "cell_type": "code",
   "execution_count": null,
   "metadata": {},
   "outputs": [],
   "source": [
    "A[i+1,:]"
   ]
  },
  {
   "cell_type": "code",
   "execution_count": null,
   "metadata": {},
   "outputs": [],
   "source": [
    "B[i+1,:]"
   ]
  },
  {
   "cell_type": "code",
   "execution_count": null,
   "metadata": {},
   "outputs": [],
   "source": [
    "a_A[i+1]"
   ]
  },
  {
   "cell_type": "code",
   "execution_count": null,
   "metadata": {},
   "outputs": [],
   "source": [
    "b_A[i+1]"
   ]
  },
  {
   "cell_type": "code",
   "execution_count": null,
   "metadata": {},
   "outputs": [],
   "source": [
    "import numpy as np\n",
    "np.log(1e-300)"
   ]
  },
  {
   "cell_type": "code",
   "execution_count": null,
   "metadata": {},
   "outputs": [],
   "source": [
    "B[:,4]"
   ]
  },
  {
   "cell_type": "code",
   "execution_count": null,
   "metadata": {},
   "outputs": [],
   "source": []
  }
 ],
 "metadata": {
  "kernelspec": {
   "display_name": "Python 3",
   "language": "python",
   "name": "python3"
  },
  "language_info": {
   "codemirror_mode": {
    "name": "ipython",
    "version": 3
   },
   "file_extension": ".py",
   "mimetype": "text/x-python",
   "name": "python",
   "nbconvert_exporter": "python",
   "pygments_lexer": "ipython3",
   "version": "3.6.8"
  }
 },
 "nbformat": 4,
 "nbformat_minor": 2
}
