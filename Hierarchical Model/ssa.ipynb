{
 "cells": [
  {
   "cell_type": "code",
   "execution_count": null,
   "metadata": {},
   "outputs": [],
   "source": [
    "#This program performs a Stochastic Simulation Algorithm on birth-death process\n",
    "# 0 -> X -> 0\n",
    "import numpy as np"
   ]
  },
  {
   "cell_type": "code",
   "execution_count": null,
   "metadata": {},
   "outputs": [],
   "source": [
    "#Initializations here\n",
    "nt=1000                        #indicates the number of reactions to consider\n",
    "A=5                            #birth parameter\n",
    "B=0.2                          #death parameter\n",
    "N=20                           #number of unit intervals to consider in subsampling\n",
    "x=np.zeros((nt+1))             #molecule count \n",
    "t_x=np.zeros((nt+1))           #reaction time of fully-observed trajectory\n",
    "react_type_x=np.zeros(nt+1)    #reaction type of fully-observed trajectory\n",
    "x[0]=100                       #initial molecule count\n",
    "t_x[0]=0                       #initial time of fully-observed trajectory \n",
    "v=np.array([1, -1])            #reaction vectors"
   ]
  },
  {
   "cell_type": "code",
   "execution_count": null,
   "metadata": {},
   "outputs": [],
   "source": [
    "#Perform the iteration\n",
    "for i in range(nt):\n",
    "    a=np.array([A, B*x[i]] )\n",
    "    sum_a=np.sum(a)\n",
    "    cumsum_a=np.cumsum(a,axis=0)\n",
    "    epsilon=np.random.uniform(0,1,2)\n",
    "    dummy=len(cumsum_a)-1\n",
    "    for k in range(1):\n",
    "        if cumsum_a[k]>epsilon[0]*sum_a and k<=dummy:\n",
    "            dummy=k \n",
    "    j=dummy               \n",
    "    tau=(np.log(1/epsilon[1]))/sum_a\n",
    "    x[i+1]=x[i]+v[j]\n",
    "    t_x[i+1]=t_x[i]+tau\n",
    "    react_type_x[i+1]=j"
   ]
  },
  {
   "cell_type": "code",
   "execution_count": null,
   "metadata": {},
   "outputs": [],
   "source": [
    "#subsample the trajectory on unit intervals\n",
    "y=np.zeros(N+1)\n",
    "y[0]=x[0]\n",
    "for i in range(1,N+1):\n",
    "        for k in range(1,nt+1): \n",
    "            if t_x[k]>i-1 and t_x[k]<i:\n",
    "                y[i]=x[k];           "
   ]
  },
  {
   "cell_type": "code",
   "execution_count": null,
   "metadata": {},
   "outputs": [],
   "source": [
    "columns=' ' \n",
    "np.savetxt(\"full.csv\", x, delimiter=\",\",header=columns)\n",
    "np.savetxt(\"full_time.csv\", t_x, delimiter=\",\",header=columns)\n",
    "np.savetxt(\"full_type.csv\", react_type_x, delimiter=\",\",header=columns)\n",
    "np.savetxt(\"subsampled.csv\", y, delimiter=\",\",header=columns)"
   ]
  }
 ],
 "metadata": {
  "kernelspec": {
   "display_name": "Python 3",
   "language": "python",
   "name": "python3"
  },
  "language_info": {
   "codemirror_mode": {
    "name": "ipython",
    "version": 3
   },
   "file_extension": ".py",
   "mimetype": "text/x-python",
   "name": "python",
   "nbconvert_exporter": "python",
   "pygments_lexer": "ipython3",
   "version": "3.6.8"
  }
 },
 "nbformat": 4,
 "nbformat_minor": 2
}
