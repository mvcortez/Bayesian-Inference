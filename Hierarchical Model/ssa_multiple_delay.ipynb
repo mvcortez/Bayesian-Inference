{
 "cells": [
  {
   "cell_type": "code",
   "execution_count": 1,
   "metadata": {},
   "outputs": [],
   "source": [
    "#This program performs a Stochastic Simulation Algorithm on birth-death process for multiple observations\n",
    "# 0 -> X -> 0\n",
    "import numpy as np\n",
    "import matplotlib.pyplot as plt"
   ]
  },
  {
   "cell_type": "code",
   "execution_count": 2,
   "metadata": {},
   "outputs": [],
   "source": [
    "#Initializations here\n",
    "nt=5000                      #indicates the number of reactions to consider\n",
    "M=30                         #number of individuals\n",
    "trueA=30                      #birth parameter\n",
    "trueB=0.2                    #death parameter\n",
    "true_alpha=18/5              #alpha delay parameter\n",
    "true_beta=3/5                #beta delay parameter\n",
    "N=20                         #number of unit intervals to consider in subsampling\n",
    "x=np.zeros((nt+1,M))         #molecule count \n",
    "t_x=np.zeros((nt+1,M))       #reaction time of fully-observed trajectory\n",
    "A=np.zeros(M)                #birth parameter samples \n",
    "B=np.zeros(M)                #death parameter samples\n",
    "alpha=np.zeros(M)            #delay alpha parameter\n",
    "beta=np.zeros(M)             #delay beta parameter\n",
    "x[0,0:M]=0                 #initial molecule count\n",
    "t_x[0,0:M]=0                  #initial time of fully-observed trajectory \n",
    "v=np.array([1, -1 ])          #reaction vectors\n",
    "delay_vec=np.zeros([nt,M])"
   ]
  },
  {
   "cell_type": "code",
   "execution_count": 3,
   "metadata": {},
   "outputs": [],
   "source": [
    "#Perform the iteration\n",
    "S=np.array([1 ,-1])\n",
    "for l in range(M):\n",
    "    xx=np.zeros((nt+1))           #dummy variable for molecule count \n",
    "    t_xx=np.zeros((nt+1))         #dummy variable for reaction time \n",
    "    xx[0]=x[0,l]\n",
    "    t=t_xx[0]\n",
    "    A[l]=np.random.gamma(trueA*(1/2),2)    #(15,1/2)\n",
    "    B[l]=np.random.gamma(trueB*10,1/10)    #(2,10)\n",
    "    alpha[l]=np.random.gamma(true_alpha*10,1/10)   #(36,10)\n",
    "    beta[l]=np.random.gamma(true_beta*10,1/10)     #(6,10)\n",
    "    q=[]\n",
    "    count=0\n",
    "    for i in range(nt):\n",
    "        a=np.array([A[l], B[l]*xx[i]] )\n",
    "        sum_a=np.sum(a)\n",
    "        cumsum_a=np.cumsum(a,axis=0)\n",
    "        a_0=cumsum_a[len(cumsum_a)-1]\n",
    "        t_wait=(1/a_0)*np.log(1/np.random.uniform(0,1,1))\n",
    "        #t_wait=np.random.exponential(a_0)\n",
    "        t_prop=t+t_wait\n",
    "        q_check=len(q)\n",
    "        delay=np.random.gamma(alpha[l],1.0/beta[l])\n",
    "        if q_check == 0:\n",
    "            t=t_prop\n",
    "            t_xx[i+1]=t\n",
    "            rand=np.random.uniform(0,1,1)\n",
    "            u= cumsum_a>=rand*a_0\n",
    "            if u[0]==True:\n",
    "                delay_vec[count,l]=delay\n",
    "                count=count+1\n",
    "                q=np.sort(np.append(q,t+delay))\n",
    "                xx[i+1]=xx[i]\n",
    "            else:\n",
    "                xx[i+1]=xx[i]+S[1]\n",
    "        else:\n",
    "            if t_prop<q[0]:\n",
    "                t=t_prop\n",
    "                t_xx[i+1]=t\n",
    "                rand=np.random.uniform(0,1,1)\n",
    "                u= cumsum_a>=rand*a_0\n",
    "                if u[0]==True:\n",
    "                    delay_vec[count,l]=delay\n",
    "                    count=count+1\n",
    "                    q=np.sort(np.append(q,t+delay))\n",
    "                    xx[i+1]=xx[i]\n",
    "                else:\n",
    "                    xx[i+1]=xx[i]+S[1]\n",
    "            else:\n",
    "                t=q[0]\n",
    "                t_xx[i+1]=t\n",
    "                xx[i+1]=xx[i]+S[0]\n",
    "                q=q[1:]\n",
    "    x[:,l]=xx\n",
    "    t_x[:,l]=t_xx"
   ]
  },
  {
   "cell_type": "code",
   "execution_count": 4,
   "metadata": {},
   "outputs": [],
   "source": [
    "#subsample the trajectory on unit intervals\n",
    "y=np.zeros((N+1,M))\n",
    "y[0,0:M]=x[0,0:M]\n",
    "for l in range(M):\n",
    "    for i in range(1,N+1):\n",
    "            for k in range(nt+1): \n",
    "                if t_x[k,l]>i-1 and t_x[k,l]<i:\n",
    "                    y[i,l]=x[k,l];           "
   ]
  },
  {
   "cell_type": "code",
   "execution_count": 5,
   "metadata": {},
   "outputs": [
    {
     "data": {
      "image/png": "[encoded data removed]",
      "text/plain": [
       "<Figure size 432x288 with 1 Axes>"
      ]
     },
     "metadata": {
      "needs_background": "light"
     },
     "output_type": "display_data"
    }
   ],
   "source": [
    "#plot the trajectory\n",
    "plt.plot(t_x[0:3000,0:10],x[0:3000,0:10],'r')\n",
    "plt.title('Simulated Trajectory of the Stochastic Birth-death process')\n",
    "plt.xlabel('time')\n",
    "plt.ylabel('Molecular Count')\n",
    "plt.show()"
   ]
  },
  {
   "cell_type": "code",
   "execution_count": 6,
   "metadata": {},
   "outputs": [],
   "source": [
    "#save the simulated values into .csv files\n",
    "columns=' ' \n",
    "#np.savetxt(\"full.csv\", x, delimiter=\",\",header=columns)\n",
    "#np.savetxt(\"full_time.csv\", t_x, delimiter=\",\",header=columns)\n",
    "np.savetxt(\"subsampled.csv\", y, delimiter=\",\",header=columns)\n",
    "np.savetxt(\"B.csv\", B, delimiter=\",\",header=columns)\n",
    "#np.savetxt(\"delay.csv\", delay_vec, delimiter=\",\",header=columns)\n",
    "np.save(\"A.npy\",A)\n",
    "np.save(\"B.npy\",B)\n",
    "np.save(\"alpha.npy\",alpha)\n",
    "np.save(\"beta.npy\",beta)"
   ]
  },
  {
   "cell_type": "code",
   "execution_count": null,
   "metadata": {},
   "outputs": [],
   "source": [
    "print(np.mean(A))\n",
    "print(np.var(A))\n",
    "print(np.mean(B))\n",
    "print(np.var(B))\n",
    "print(np.mean(alpha))\n",
    "print(np.var(alpha))\n",
    "print(np.mean(beta))\n",
    "print(np.var(beta))"
   ]
  },
  {
   "cell_type": "code",
   "execution_count": null,
   "metadata": {},
   "outputs": [],
   "source": [
    "import numpy as np\n",
    "true_A=np.load(\"A.npy\")\n",
    "true_B=np.load(\"B.npy\")\n",
    "columns=' '\n",
    "np.savetxt(\"true_A.csv\", true_A, delimiter=\",\",header=columns)\n",
    "np.savetxt(\"true_B.csv\", true_B, delimiter=\",\",header=columns)"
   ]
  },
  {
   "cell_type": "code",
   "execution_count": null,
   "metadata": {},
   "outputs": [],
   "source": [
    "import numpy as np\n",
    "x=np.array([1,2,3])\n",
    "x[len(x)-1]"
   ]
  },
  {
   "cell_type": "code",
   "execution_count": null,
   "metadata": {},
   "outputs": [],
   "source": [
    "np.savetxt(\"delay.csv\", delay_vec, delimiter=\",\",header=columns)"
   ]
  },
  {
   "cell_type": "code",
   "execution_count": null,
   "metadata": {},
   "outputs": [],
   "source": [
    "alp=np.load('alpha.npy')\n",
    "bet=np.load('beta.npy')"
   ]
  },
  {
   "cell_type": "code",
   "execution_count": null,
   "metadata": {},
   "outputs": [],
   "source": [
    "alp[0]/bet[0]"
   ]
  },
  {
   "cell_type": "code",
   "execution_count": null,
   "metadata": {},
   "outputs": [],
   "source": [
    "alp"
   ]
  },
  {
   "cell_type": "code",
   "execution_count": null,
   "metadata": {},
   "outputs": [],
   "source": [
    "bet"
   ]
  },
  {
   "cell_type": "code",
   "execution_count": null,
   "metadata": {},
   "outputs": [],
   "source": [
    "alp/bet"
   ]
  },
  {
   "cell_type": "code",
   "execution_count": 4,
   "metadata": {},
   "outputs": [],
   "source": [
    "abeta=np.load('beta.npy')\n",
    "np.savetxt(\"A.csv\", abeta, delimiter=\",\",header=\" \")"
   ]
  },
  {
   "cell_type": "code",
   "execution_count": 5,
   "metadata": {},
   "outputs": [
    {
     "data": {
      "text/plain": [
       "array([0.64332748, 0.6015446 , 0.6949848 , 0.26271938, 0.42734159,\n",
       "       0.33281463, 0.63879292, 0.43627409, 0.67873005, 0.65015173,\n",
       "       0.60156206, 0.32810111, 0.44325792, 0.61649944, 0.50182537,\n",
       "       0.71250495, 0.8079948 , 0.21512617, 0.48990294, 1.10642477,\n",
       "       0.38039112, 0.84111437, 0.74887524, 0.96436127, 0.32897053,\n",
       "       0.32218236, 0.46343863, 0.48745639, 0.72677153, 0.98219177])"
      ]
     },
     "execution_count": 5,
     "metadata": {},
     "output_type": "execute_result"
    }
   ],
   "source": [
    "abeta"
   ]
  },
  {
   "cell_type": "code",
   "execution_count": null,
   "metadata": {},
   "outputs": [],
   "source": [
    "BB=np.load('B.npy')"
   ]
  },
  {
   "cell_type": "code",
   "execution_count": null,
   "metadata": {},
   "outputs": [],
   "source": [
    "BB"
   ]
  },
  {
   "cell_type": "code",
   "execution_count": null,
   "metadata": {},
   "outputs": [],
   "source": []
  },
  {
   "cell_type": "code",
   "execution_count": null,
   "metadata": {},
   "outputs": [],
   "source": []
  }
 ],
 "metadata": {
  "kernelspec": {
   "display_name": "Python 3",
   "language": "python",
   "name": "python3"
  },
  "language_info": {
   "codemirror_mode": {
    "name": "ipython",
    "version": 3
   },
   "file_extension": ".py",
   "mimetype": "text/x-python",
   "name": "python",
   "nbconvert_exporter": "python",
   "pygments_lexer": "ipython3",
   "version": "3.6.8"
  }
 },
 "nbformat": 4,
 "nbformat_minor": 2
}
