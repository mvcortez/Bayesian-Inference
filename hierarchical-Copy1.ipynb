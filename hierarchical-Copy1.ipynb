{
 "cells": [
  {
   "cell_type": "code",
   "execution_count": 1,
   "metadata": {},
   "outputs": [],
   "source": [
    "#This performs Hierarchical modeling on a partially-observed birth-death process 0->X->0 with birth parameter A and death parameter B.\n",
    "import pandas as pd\n",
    "import numpy as np\n",
    "import math\n",
    "import matplotlib.pyplot as plt\n",
    "from statsmodels.graphics.tsaplots import plot_acf\n",
    "from scipy.stats import gamma\n",
    "from scipy.stats import poisson\n",
    "from scipy.stats import skellam"
   ]
  },
  {
   "cell_type": "code",
   "execution_count": 2,
   "metadata": {},
   "outputs": [],
   "source": [
    "#import saved data\n",
    "pd_subsampled_x=pd.read_csv(\"subsampled.csv\")\n",
    "x= pd_subsampled_x.values\n",
    "size=np.shape(x)"
   ]
  },
  {
   "cell_type": "code",
   "execution_count": 3,
   "metadata": {},
   "outputs": [],
   "source": [
    "L=3000      #length of the chain\n",
    "#I=size[0]    #I-1 is number of subintervals\n",
    "M=size[1]    #number of individuals\n",
    "I=35\n",
    "#initializations\n",
    "A=np.zeros((L,M))               #birth parameter\n",
    "B=np.zeros((L,M))               #death parameter\n",
    "a_A=np.zeros(L+1)               #birth shape hyperparameter\n",
    "a_B=np.zeros(L+1)               #death shape hyperparameter\n",
    "b_A=np.zeros(L+1)               #birth scale hyperparameter\n",
    "b_B=np.zeros(L+1)               #death scale hyperparameter\n",
    "r=np.zeros((2,I-1,size[1]))     #reaction numbers\n",
    "sum_x=np.zeros(M)   \n",
    "var_a_A=2                       #birth shape hyperparameter proposal variance\n",
    "var_a_B=2                       #death shape hyperparameter proposal variance\n",
    "tune=300                        #reaction proposal tuning parameter\n",
    "#initial conditions\n",
    "a_A[0]=70\n",
    "b_A[0]=10\n",
    "a_B[0]=10\n",
    "b_B[0]=10"
   ]
  },
  {
   "cell_type": "code",
   "execution_count": 4,
   "metadata": {},
   "outputs": [],
   "source": [
    "def init_reaction(x,s):         #initialize reaction numbers           \n",
    "    q=np.zeros([2,s-1])\n",
    "    for i in range(s-1):\n",
    "        if x[i+1]-x[i]>0:\n",
    "            q[0,i]=np.floor((4/3)*(x[i+1]-x[i]))\n",
    "            q[1,i]=np.floor((1/3)*(x[i+1]-x[i]))\n",
    "        else:\n",
    "            q[0,i]=-np.floor((1/3)*(x[i+1]-x[i]))\n",
    "            q[1,i]=-np.floor((4/3)*(x[i+1]-x[i]))\n",
    "    r=q.astype(int)        \n",
    "    return r  \n",
    "\n",
    "def accept_rate_react(x,r,prop,i,A,B,jump,b):        #acceptance rate for reaction numbers\n",
    "    lambda_prop=1+(prop[0]**2)/b\n",
    "    lambda_cur=1+(r[0]**2)/b\n",
    "    prop_like=poisson.pmf(prop[0],A)*poisson.pmf(prop[1],0.5*B*(x[i]+x[i+1]))*skellam.pmf(abs(jump),lambda_prop,lambda_prop)\n",
    "    current_like=poisson.pmf(r[0],A)*poisson.pmf(r[1],0.5*B*(x[i]+x[i+1]))*skellam.pmf(abs(jump),lambda_cur,lambda_cur)  \n",
    "    rate=np.minimum(1,prop_like/current_like)\n",
    "    return rate\n",
    "\n",
    "def a_lik(A,a,b):           #shape hyperparameter likelihood function \n",
    "    sum1=0\n",
    "    M=len(A)\n",
    "    for s in range(M):\n",
    "        sum1+=np.log(A[s])\n",
    "    sum1*=(a-1)\n",
    "    q=-M*np.log(math.gamma(a))+M*a*np.log(b)+sum1\n",
    "    return q"
   ]
  },
  {
   "cell_type": "code",
   "execution_count": 5,
   "metadata": {},
   "outputs": [],
   "source": [
    "#initialize number of reactions\n",
    "for s in range(M):\n",
    "    r[:,:,s]= init_reaction(x[:,s],I)\n",
    "    sum_x[s]=x[0,s]+x[I-1,s]\n",
    "    for j in range(I-2):\n",
    "        sum_x[s]+=2*x[j,s]\n",
    "    sum_x[s]=0.5*sum_x[s] "
   ]
  },
  {
   "cell_type": "code",
   "execution_count": null,
   "metadata": {},
   "outputs": [],
   "source": [
    "r=np.load('react.npy')"
   ]
  },
  {
   "cell_type": "code",
   "execution_count": null,
   "metadata": {},
   "outputs": [
    {
     "name": "stdout",
     "output_type": "stream",
     "text": [
      "70.0 21.781596012401717 next 21.781596012401717 104.49055214161307\n",
      "69.74121434957164 24.21243059994483 next 24.21243059994483 77.35098657696292\n",
      "68.52128334057883 21.14610706828713 next 21.14610706828713 69.81826645298064\n",
      "70.98945973117264 18.944424065782552 next 18.944424065782552 62.82423476386173\n",
      "68.97978970922358 17.334474432533902 next 17.334474432533902 63.77589447891084\n",
      "68.0886544456669 16.65895472346192 next 16.65895472346192 66.12031775730742\n",
      "72.39999895558465 16.840278560261396 next 16.840278560261396 68.60028531315574\n",
      "72.94473390643184 15.330977618948877 next 15.330977618948877 61.915185015226825\n",
      "74.09000960315028 15.28029662005876 next 15.28029662005876 60.5192099995555\n",
      "79.01483111148744 15.011733529295615 next 15.011733529295615 57.035947141264785\n",
      "79.59701658567461 15.532522536733437 next 15.532522536733437 54.80375573031134\n",
      "78.18613307751083 14.445965502769637 next 14.445965502769637 55.226836594397945\n",
      "77.22577050886476 14.271775000624446 next 14.271775000624446 48.59496030851694\n",
      "76.30421065949798 13.869324934399904 next 13.869324934399904 49.105481120463566\n",
      "74.4758685603924 13.017643498807388 next 13.017643498807388 47.114660335273534\n",
      "74.4758685603924 13.026703337539987 next 13.026703337539987 45.14013042388712\n",
      "75.58077862752478 12.98677938034608 next 12.98677938034608 47.027208565609065\n",
      "78.02894263294795 13.396876913388823 next 13.396876913388823 40.29670750885072\n",
      "81.21638907551727 13.43503960854558 next 13.43503960854558 38.939664317781904\n",
      "79.99920843600123 13.526336174948073 next 13.526336174948073 40.16527785835965\n",
      "81.64375737002177 13.196369391004954 next 13.196369391004954 38.750918840389176\n",
      "82.36836782934762 13.407705298416921 next 13.407705298416921 40.36536371760686\n",
      "84.57324765829117 13.466049556527917 next 13.466049556527917 39.87256257960446\n",
      "86.9017734744406 13.765236232030762 next 13.765236232030762 38.80547585053663\n",
      "87.20240358550336 13.604029080575579 next 13.604029080575579 38.812005661430184\n",
      "87.55266892587439 13.72833433075414 next 13.72833433075414 38.53957735048164\n",
      "86.459288107253 13.781807162539174 next 13.781807162539174 38.35729792742614\n",
      "92.54580953861708 14.449074570979706 next 14.449074570979706 34.96279229013085\n",
      "93.38417164621406 14.042559689592814 next 14.042559689592814 35.10398744160881\n",
      "95.36968291393713 14.323406053156823 next 14.323406053156823 37.80306659876892\n",
      "96.65619352693597 14.324951577291863 next 14.324951577291863 36.33675646997101\n",
      "94.06011730927304 14.198744693210745 next 14.198744693210745 31.910801069658437\n",
      "95.17205322639032 14.141595679309843 next 14.141595679309843 33.20246868384588\n",
      "96.12344997977969 14.183648576704329 next 14.183648576704329 32.73823666489253\n",
      "97.11689778294058 14.400617674320818 next 14.400617674320818 31.81601866172144\n",
      "102.62161727811643 14.645809016487926 next 14.645809016487926 31.441049089610193\n",
      "104.82621972936884 15.480889131561595 next 15.480889131561595 32.77436473349484\n",
      "105.44381290786363 15.064456757733678 next 15.064456757733678 33.55353264674472\n",
      "106.9181850832725 14.764992910624201 next 14.764992910624201 33.78819371910126\n",
      "100.72209829125885 14.341877172320139 next 14.341877172320139 34.60022346605691\n",
      "103.61516875898913 15.070312300422287 next 15.070312300422287 37.860164415066954\n",
      "101.11972182614946 13.912540573147005 next 13.912540573147005 38.20147767616981\n",
      "100.40607787798793 14.092003522203361 next 14.092003522203361 34.99004069416921\n",
      "101.9501572797808 14.078965887749154 next 14.078965887749154 37.36181448435836\n",
      "101.98930393285741 14.165346039139093 next 14.165346039139093 34.13359265624911\n",
      "101.39828809883512 14.074484621960025 next 14.074484621960025 35.596220971099655\n",
      "100.19219114730123 14.212732558402026 next 14.212732558402026 33.018392156704046\n",
      "99.84159421555572 13.727628429483497 next 13.727628429483497 32.53868748534079\n",
      "98.47226760000468 13.835155836271436 next 13.835155836271436 31.43694567391535\n",
      "103.62688791700022 14.20012452831605 next 14.20012452831605 31.563097635051616\n",
      "103.7527778200635 13.806691770378071 next 13.806691770378071 33.49798102942145\n",
      "101.93088466978732 13.761549918000062 next 13.761549918000062 32.70318754499571\n",
      "104.47862037664555 14.125207417874831 next 14.125207417874831 37.27455027193336\n",
      "110.11715603063152 14.946246773639619 next 14.946246773639619 33.811355197569156\n",
      "106.0998788916775 14.318748073235495 next 14.318748073235495 34.71146212505843\n",
      "108.33373164662542 14.87983259529753 next 14.87983259529753 35.41527946876037\n",
      "107.99948026582317 14.25595534661942 next 14.25595534661942 35.600588502243454\n",
      "107.04367851319928 14.065298870951304 next 14.065298870951304 33.900020776574266\n",
      "106.70526297796573 13.870891533349296 next 13.870891533349296 36.18730160803094\n",
      "104.76690324415245 13.535447799648868 next 13.535447799648868 33.87746005411822\n",
      "106.83431405639124 13.89012842929939 next 13.89012842929939 36.87684391105716\n",
      "107.20543506184713 13.35202266104508 next 13.35202266104508 37.17064940664742\n",
      "100.33942175343479 12.671914353002803 next 12.671914353002803 38.358253694053566\n",
      "100.33942175343479 12.981728580441265 next 12.981728580441265 35.00556956999803\n",
      "101.98124719552858 13.181571109803148 next 13.181571109803148 34.398559958217525\n",
      "105.42702030079042 13.543167636129242 next 13.543167636129242 36.39814918540302\n",
      "104.18451449400253 13.579369147773926 next 13.579369147773926 37.17026909908174\n",
      "104.18451449400253 13.789563778020169 next 13.789563778020169 36.974708313825985\n",
      "105.39522181647595 13.513890521150795 next 13.513890521150795 37.45511553186234\n",
      "107.1244872401925 13.732686541520161 next 13.732686541520161 37.56885766276454\n",
      "103.37213004083081 13.418744475455757 next 13.418744475455757 40.74865345019326\n",
      "104.87352165583044 13.435920608076508 next 13.435920608076508 42.64764393190182\n",
      "106.55112506327163 13.247918576138302 next 13.247918576138302 37.19780881154563\n",
      "102.86453961667004 12.659455188812665 next 12.659455188812665 38.160881714282176\n",
      "103.80388008118098 12.757019146997822 next 12.757019146997822 38.20593523847669\n",
      "105.08443097404356 12.697070793113149 next 12.697070793113149 34.92977115227624\n",
      "102.07256254980888 12.129621866333283 next 12.129621866333283 34.68653940105453\n",
      "102.42136444206788 12.290785849210186 next 12.290785849210186 32.33675821901942\n",
      "99.78116812647866 11.938307486631567 next 11.938307486631567 32.368344416248235\n",
      "100.12348498131333 11.989976615910132 next 11.989976615910132 33.417578230907075\n",
      "103.49286947427193 12.447268846511665 next 12.447268846511665 31.978069158932854\n",
      "104.76053175315396 12.589660488945048 next 12.589660488945048 34.206971451286016\n"
     ]
    }
   ],
   "source": [
    "#perform sampling       \n",
    "for i in range(L):\n",
    "    for s in range(M):\n",
    "        #sample parameters\n",
    "        A[i,s]=np.random.gamma(np.sum(r[0,:,s])+a_A[i],(I-1+b_A[i])**(-1))\n",
    "        B[i,s]=np.random.gamma(np.sum(r[1,:,s])+a_B[i],(sum_x[s]+b_A[i])**(-1))\n",
    "        #update reaction numbers\n",
    "        for j in range(I-1):\n",
    "            r_vprop=np.array([-1,-1])\n",
    "            lamb=1+(r[0,j,s]**2)/tune                 #tuning parameter suggested in Boy's\n",
    "            while r_vprop[0]<0 or r_vprop[1]<0:\n",
    "                jump=np.random.poisson(lamb)-np.random.poisson(lamb)\n",
    "                r_prop=r[0,j,s]+jump\n",
    "                r_vprop=[r_prop, r_prop-(x[j+1,s]-x[j,s])]    \n",
    "            rate=accept_rate_react(x[:,s],r[:,j,s],r_vprop,j,A[i,s],B[i,s],jump,tune) \n",
    "            if np.random.uniform(0,1,1)<rate:\n",
    "                r[:,j,s]=r_vprop      \n",
    "    #print(r)\n",
    "    #sample hyperparameters a_A and a_B\n",
    "    a_Aprop=-1\n",
    "    while a_Aprop<0:\n",
    "        a_Aprop=a_A[i]+np.random.normal(0,var_a_A)\n",
    "    a=a_lik(A[i,:],a_Aprop,b_A[i]) \n",
    "    b=a_lik(A[i,:],a_A[i],b_A[i])\n",
    "    rate=np.minimum(1,np.exp(a-b))\n",
    "    if np.random.uniform(0,1,1)<rate:    \n",
    "        a_A[i+1]=a_Aprop\n",
    "    else:\n",
    "        a_A[i+1]=a_A[i]\n",
    "        \n",
    "    a_Bprop=-1\n",
    "    while a_Bprop<0:\n",
    "        a_Bprop=a_B[i]+np.random.normal(0,var_a_B)\n",
    "    a=a_lik(B[i,:],a_Bprop,b_B[i]) \n",
    "    b=a_lik(B[i,:],a_B[i],b_B[i])\n",
    "    rate=np.minimum(1,np.exp(a-b))\n",
    "    if np.random.uniform(0,1,1)<rate:    \n",
    "        a_B[i+1]=a_Bprop\n",
    "    else:\n",
    "        a_B[i+1]=a_B[i]    \n",
    "        \n",
    "    #sample hyperparameters b_A and b_B\n",
    "    sum1=np.sum(A[i,:])\n",
    "    sum2=np.sum(B[i,:])\n",
    "    b_A[i+1]=np.random.gamma(M*a_A[i+1],sum1**(-1))\n",
    "    b_B[i+1]=np.random.gamma(M*a_B[i+1],sum2**(-1))\n",
    "    \n",
    "    if i%5 == 0:\n",
    "        print(a_A[i+1],b_A[i+1],\"next\",b_A[i+1],b_B[i+1])                        "
   ]
  },
  {
   "cell_type": "code",
   "execution_count": null,
   "metadata": {},
   "outputs": [],
   "source": [
    "#save the simulated values into .csv files\n",
    "np.save('react.npy',r) \n",
    "columns=' '\n",
    "np.savetxt(\"A.csv\", A, delimiter=\",\",header=columns)\n",
    "np.savetxt(\"B.csv\", B, delimiter=\",\",header=columns)\n",
    "np.savetxt(\"a_A.csv\", a_A, delimiter=\",\",header=columns)\n",
    "np.savetxt(\"b_A.csv\", b_A, delimiter=\",\",header=columns)\n",
    "np.savetxt(\"a_B.csv\", a_B, delimiter=\",\",header=columns)\n",
    "np.savetxt(\"b_B.csv\", b_B, delimiter=\",\",header=columns)"
   ]
  },
  {
   "cell_type": "code",
   "execution_count": null,
   "metadata": {},
   "outputs": [],
   "source": [
    "1+r[0]**2/200"
   ]
  },
  {
   "cell_type": "code",
   "execution_count": null,
   "metadata": {},
   "outputs": [],
   "source": [
    "np.random.poisson(1+400)-np.random.poisson(1+400)"
   ]
  },
  {
   "cell_type": "code",
   "execution_count": null,
   "metadata": {},
   "outputs": [],
   "source": [
    "r"
   ]
  },
  {
   "cell_type": "code",
   "execution_count": null,
   "metadata": {},
   "outputs": [],
   "source": [
    "abs(4-5)"
   ]
  },
  {
   "cell_type": "code",
   "execution_count": null,
   "metadata": {},
   "outputs": [],
   "source": [
    "jump"
   ]
  },
  {
   "cell_type": "code",
   "execution_count": null,
   "metadata": {},
   "outputs": [],
   "source": [
    "plt.hist(b_A[0:i])"
   ]
  },
  {
   "cell_type": "code",
   "execution_count": null,
   "metadata": {},
   "outputs": [],
   "source": []
  }
 ],
 "metadata": {
  "kernelspec": {
   "display_name": "Python 3",
   "language": "python",
   "name": "python3"
  },
  "language_info": {
   "codemirror_mode": {
    "name": "ipython",
    "version": 3
   },
   "file_extension": ".py",
   "mimetype": "text/x-python",
   "name": "python",
   "nbconvert_exporter": "python",
   "pygments_lexer": "ipython3",
   "version": "3.6.8"
  }
 },
 "nbformat": 4,
 "nbformat_minor": 2
}
