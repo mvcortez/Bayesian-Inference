{
 "cells": [
  {
   "cell_type": "code",
   "execution_count": 1,
   "metadata": {},
   "outputs": [],
   "source": [
    "#This performs Hierarchical modeling on a partially-observed birth-death process 0->X->0 with birth parameter A and death parameter B.\n",
    "import pandas as pd\n",
    "import numpy as np\n",
    "import matplotlib.pyplot as plt\n",
    "from statsmodels.graphics.tsaplots import plot_acf\n",
    "from scipy.stats import gamma\n",
    "from scipy.stats import poisson\n",
    "import math"
   ]
  },
  {
   "cell_type": "code",
   "execution_count": 2,
   "metadata": {},
   "outputs": [],
   "source": [
    "#import saved data\n",
    "pd_subsampled_x=pd.read_csv(\"subsampled.csv\")\n",
    "x= pd_subsampled_x.values\n",
    "size=np.shape(x)"
   ]
  },
  {
   "cell_type": "code",
   "execution_count": 3,
   "metadata": {},
   "outputs": [],
   "source": [
    "L=3000      #length of the chain\n",
    "I=size[0]    #I-1 is number of subintervals\n",
    "M=size[1]    #number of individuals\n",
    "#initializations\n",
    "A=np.zeros((L,M))               #birth parameter\n",
    "B=np.zeros((L,M))               #death parameter\n",
    "a_A=np.zeros(L+1)               #birth shape hyperparameter\n",
    "a_B=np.zeros(L+1)               #death shape hyperparameter\n",
    "b_A=np.zeros(L+1)               #birth scale hyperparameter\n",
    "b_B=np.zeros(L+1)               #death scale hyperparameter\n",
    "r=np.zeros((2,I-1,size[1]))     #reaction numbers\n",
    "sum_x=np.zeros(M)   \n",
    "var_a_A=2                       #birth shape hyperparameter proposal variance\n",
    "var_a_B=2                       #death shape hyperparameter proposal variance\n",
    "#initial conditions\n",
    "a_A[0]=25\n",
    "b_A[0]=0.1\n",
    "a_B[0]=25\n",
    "b_B[0]=0.1"
   ]
  },
  {
   "cell_type": "code",
   "execution_count": 4,
   "metadata": {},
   "outputs": [],
   "source": [
    "def init_reaction(x,s):         #initialize reaction numbers           \n",
    "    q=np.zeros([2,s-1])\n",
    "    for i in range(s-1):\n",
    "        if x[i+1]-x[i]>0:\n",
    "            q[0,i]=np.floor((4/3)*(x[i+1]-x[i]))\n",
    "            q[1,i]=np.floor((1/3)*(x[i+1]-x[i]))\n",
    "        else:\n",
    "            q[0,i]=-np.floor((1/3)*(x[i+1]-x[i]))\n",
    "            q[1,i]=-np.floor((4/3)*(x[i+1]-x[i]))\n",
    "    r=q.astype(int)        \n",
    "    return r  \n",
    "\n",
    "def accept_rate_react(x,r,prop,i,A,B):        #acceptance rate for reaction numbers\n",
    "    prop_like=poisson.pmf(prop[0],A)*poisson.pmf(prop[1],0.5*B*(x[i]+x[i+1]))\n",
    "    current_like=poisson.pmf(r[0],A)*poisson.pmf(r[1],0.5*B*(x[i]+x[i+1]))  \n",
    "    rate=np.minimum(1,prop_like/current_like)\n",
    "    return rate\n",
    "\n",
    "def a_lik(A,a,b):           #shape hyperparameter likelihood function \n",
    "    sum1=0\n",
    "    M=len(A)\n",
    "    for s in range(M):\n",
    "        sum1+=np.log(A[s])\n",
    "    sum1*=(a-1)\n",
    "    q=-M*np.log(math.gamma(a))+M*a*np.log(b)+sum1\n",
    "    return q"
   ]
  },
  {
   "cell_type": "code",
   "execution_count": 5,
   "metadata": {},
   "outputs": [],
   "source": [
    "#initialize number of reactions\n",
    "for s in range(M):\n",
    "    r[:,:,s]= init_reaction(x[:,s],I)\n",
    "    sum_x[s]=x[0,s]+x[I-1,s]\n",
    "    for j in range(I-2):\n",
    "        sum_x[s]+=2*x[j,s]\n",
    "    sum_x[s]=0.5*sum_x[s] "
   ]
  },
  {
   "cell_type": "code",
   "execution_count": null,
   "metadata": {},
   "outputs": [],
   "source": [
    "r=np.load('react.npy')"
   ]
  },
  {
   "cell_type": "code",
   "execution_count": 6,
   "metadata": {},
   "outputs": [
    {
     "name": "stdout",
     "output_type": "stream",
     "text": [
      "21.627089437107074 8.712789684652083 next 8.712789684652083 208.1203118234744\n",
      "22.776947530816454 6.1131000306293775 next 6.1131000306293775 121.21882479060783\n",
      "21.721856577563223 5.2994809720714855 next 5.2994809720714855 84.34759532469297\n",
      "28.353996587722474 6.0396258600453825 next 6.0396258600453825 80.87577648889992\n",
      "25.987116572090915 5.339408078809599 next 5.339408078809599 79.31663298744658\n",
      "23.81564160241115 5.064323928971318 next 5.064323928971318 52.18218787164065\n",
      "25.02185987779358 5.322357607741612 next 5.322357607741612 45.81894385993202\n",
      "26.483965408965286 5.622464219471414 next 5.622464219471414 50.03609836143755\n",
      "29.899707534394924 6.707799683886254 next 6.707799683886254 61.369769683640925\n",
      "29.616391437721774 6.160996484962505 next 6.160996484962505 58.510819792075196\n",
      "29.547824619127958 6.097351404376399 next 6.097351404376399 63.29411367445752\n",
      "27.01759003402694 5.895095920428828 next 5.895095920428828 64.75023199571787\n",
      "29.319214222556404 6.44641748133272 next 6.44641748133272 67.88765842751113\n",
      "31.246712900941457 6.354048369706118 next 6.354048369706118 54.96420145304189\n",
      "31.99657088603163 6.7822160827122095 next 6.7822160827122095 53.667836100396784\n",
      "33.44048750686241 7.124038354842542 next 7.124038354842542 75.43887059880866\n"
     ]
    },
    {
     "ename": "KeyboardInterrupt",
     "evalue": "",
     "output_type": "error",
     "traceback": [
      "\u001b[1;31m---------------------------------------------------------------------------\u001b[0m",
      "\u001b[1;31mKeyboardInterrupt\u001b[0m                         Traceback (most recent call last)",
      "\u001b[1;32m<ipython-input-6-61f1c6fba84b>\u001b[0m in \u001b[0;36m<module>\u001b[1;34m\u001b[0m\n\u001b[0;32m     10\u001b[0m             \u001b[0mr_vprop\u001b[0m\u001b[1;33m=\u001b[0m\u001b[0mnp\u001b[0m\u001b[1;33m.\u001b[0m\u001b[0marray\u001b[0m\u001b[1;33m(\u001b[0m\u001b[1;33m[\u001b[0m\u001b[1;33m-\u001b[0m\u001b[1;36m1\u001b[0m\u001b[1;33m,\u001b[0m\u001b[1;33m-\u001b[0m\u001b[1;36m1\u001b[0m\u001b[1;33m]\u001b[0m\u001b[1;33m)\u001b[0m\u001b[1;33m\u001b[0m\u001b[1;33m\u001b[0m\u001b[0m\n\u001b[0;32m     11\u001b[0m             \u001b[1;32mwhile\u001b[0m \u001b[0mr_vprop\u001b[0m\u001b[1;33m[\u001b[0m\u001b[1;36m0\u001b[0m\u001b[1;33m]\u001b[0m\u001b[1;33m<\u001b[0m\u001b[1;36m0\u001b[0m \u001b[1;32mor\u001b[0m \u001b[0mr_vprop\u001b[0m\u001b[1;33m[\u001b[0m\u001b[1;36m1\u001b[0m\u001b[1;33m]\u001b[0m\u001b[1;33m<\u001b[0m\u001b[1;36m0\u001b[0m\u001b[1;33m:\u001b[0m\u001b[1;33m\u001b[0m\u001b[1;33m\u001b[0m\u001b[0m\n\u001b[1;32m---> 12\u001b[1;33m                 \u001b[0mr_prop\u001b[0m\u001b[1;33m=\u001b[0m\u001b[0mr\u001b[0m\u001b[1;33m[\u001b[0m\u001b[1;36m0\u001b[0m\u001b[1;33m,\u001b[0m\u001b[0mj\u001b[0m\u001b[1;33m,\u001b[0m\u001b[0ms\u001b[0m\u001b[1;33m]\u001b[0m\u001b[1;33m+\u001b[0m\u001b[0mnp\u001b[0m\u001b[1;33m.\u001b[0m\u001b[0mrandom\u001b[0m\u001b[1;33m.\u001b[0m\u001b[0mpoisson\u001b[0m\u001b[1;33m(\u001b[0m\u001b[1;36m1\u001b[0m\u001b[1;33m)\u001b[0m\u001b[1;33m-\u001b[0m\u001b[0mnp\u001b[0m\u001b[1;33m.\u001b[0m\u001b[0mrandom\u001b[0m\u001b[1;33m.\u001b[0m\u001b[0mpoisson\u001b[0m\u001b[1;33m(\u001b[0m\u001b[1;36m1\u001b[0m\u001b[1;33m)\u001b[0m\u001b[1;33m\u001b[0m\u001b[1;33m\u001b[0m\u001b[0m\n\u001b[0m\u001b[0;32m     13\u001b[0m                 \u001b[0mr_vprop\u001b[0m\u001b[1;33m=\u001b[0m\u001b[1;33m[\u001b[0m\u001b[0mr_prop\u001b[0m\u001b[1;33m,\u001b[0m \u001b[0mr_prop\u001b[0m\u001b[1;33m-\u001b[0m\u001b[1;33m(\u001b[0m\u001b[0mx\u001b[0m\u001b[1;33m[\u001b[0m\u001b[0mj\u001b[0m\u001b[1;33m+\u001b[0m\u001b[1;36m1\u001b[0m\u001b[1;33m,\u001b[0m\u001b[0ms\u001b[0m\u001b[1;33m]\u001b[0m\u001b[1;33m-\u001b[0m\u001b[0mx\u001b[0m\u001b[1;33m[\u001b[0m\u001b[0mj\u001b[0m\u001b[1;33m,\u001b[0m\u001b[0ms\u001b[0m\u001b[1;33m]\u001b[0m\u001b[1;33m)\u001b[0m\u001b[1;33m]\u001b[0m\u001b[1;33m\u001b[0m\u001b[1;33m\u001b[0m\u001b[0m\n\u001b[0;32m     14\u001b[0m             \u001b[0mrate\u001b[0m\u001b[1;33m=\u001b[0m\u001b[0maccept_rate_react\u001b[0m\u001b[1;33m(\u001b[0m\u001b[0mx\u001b[0m\u001b[1;33m[\u001b[0m\u001b[1;33m:\u001b[0m\u001b[1;33m,\u001b[0m\u001b[0ms\u001b[0m\u001b[1;33m]\u001b[0m\u001b[1;33m,\u001b[0m\u001b[0mr\u001b[0m\u001b[1;33m[\u001b[0m\u001b[1;33m:\u001b[0m\u001b[1;33m,\u001b[0m\u001b[0mj\u001b[0m\u001b[1;33m,\u001b[0m\u001b[0ms\u001b[0m\u001b[1;33m]\u001b[0m\u001b[1;33m,\u001b[0m\u001b[0mr_vprop\u001b[0m\u001b[1;33m,\u001b[0m\u001b[0mj\u001b[0m\u001b[1;33m,\u001b[0m\u001b[0mA\u001b[0m\u001b[1;33m[\u001b[0m\u001b[0mi\u001b[0m\u001b[1;33m,\u001b[0m\u001b[0ms\u001b[0m\u001b[1;33m]\u001b[0m\u001b[1;33m,\u001b[0m\u001b[0mB\u001b[0m\u001b[1;33m[\u001b[0m\u001b[0mi\u001b[0m\u001b[1;33m,\u001b[0m\u001b[0ms\u001b[0m\u001b[1;33m]\u001b[0m\u001b[1;33m)\u001b[0m\u001b[1;33m\u001b[0m\u001b[1;33m\u001b[0m\u001b[0m\n",
      "\u001b[1;31mKeyboardInterrupt\u001b[0m: "
     ]
    }
   ],
   "source": [
    "#perform sampling       \n",
    "for i in range(L):\n",
    "    for s in range(M):\n",
    "        #sample parameters\n",
    "        A[i,s]=np.random.gamma(np.sum(r[0,:,s])+a_A[i],(I-1+b_A[i])**(-1))\n",
    "        B[i,s]=np.random.gamma(np.sum(r[1,:,s])+a_B[i],(sum_x[s]+b_A[i])**(-1))\n",
    "\n",
    "        #update reaction numbers\n",
    "        for j in range(I-1):\n",
    "            r_vprop=np.array([-1,-1])\n",
    "            while r_vprop[0]<0 or r_vprop[1]<0:\n",
    "                r_prop=r[0,j,s]+np.random.poisson(1)-np.random.poisson(1)\n",
    "                r_vprop=[r_prop, r_prop-(x[j+1,s]-x[j,s])]    \n",
    "            rate=accept_rate_react(x[:,s],r[:,j,s],r_vprop,j,A[i,s],B[i,s]) \n",
    "            if np.random.uniform(0,1,1)<rate:\n",
    "                r[:,j,s]=r_vprop      \n",
    "    \n",
    "    #sample hyperparameters a_A and a_B\n",
    "    a_Aprop=-1\n",
    "    while a_Aprop<0:\n",
    "        a_Aprop=a_A[i]+np.random.normal(0,var_a_A)\n",
    "    a=a_lik(A[i,:],a_Aprop,b_A[i]) \n",
    "    b=a_lik(A[i,:],a_A[i],b_A[i])\n",
    "    rate=np.minimum(1,np.exp(a-b))\n",
    "    if np.random.uniform(0,1,1)<rate:    \n",
    "        a_A[i+1]=a_Aprop\n",
    "    else:\n",
    "        a_A[i+1]=a_A[i]\n",
    "        \n",
    "    a_Bprop=-1\n",
    "    while a_Bprop<0:\n",
    "        a_Bprop=a_B[i]+np.random.normal(0,var_a_B)\n",
    "    a=a_lik(B[i,:],a_Bprop,b_B[i]) \n",
    "    b=a_lik(B[i,:],a_B[i],b_B[i])\n",
    "    rate=np.minimum(1,np.exp(a-b))\n",
    "    if np.random.uniform(0,1,1)<rate:    \n",
    "        a_B[i+1]=a_Bprop\n",
    "    else:\n",
    "        a_B[i+1]=a_B[i]    \n",
    "        \n",
    "    #sample hyperparameters b_A and b_B\n",
    "    sum1=np.sum(A[i,:])\n",
    "    sum2=np.sum(B[i,:])\n",
    "    b_A[i+1]=np.random.gamma(M*a_A[i+1],sum1**(-1))\n",
    "    b_B[i+1]=np.random.gamma(M*a_B[i+1],sum2**(-1))\n",
    "    \n",
    "    if i%20 == 0:\n",
    "        print(a_A[i+1],b_A[i+1],\"next\",b_A[i+1],b_B[i+1])                        "
   ]
  },
  {
   "cell_type": "code",
   "execution_count": null,
   "metadata": {},
   "outputs": [],
   "source": [
    "#save the simulated values into .csv files\n",
    "np.save('react.npy',r) \n",
    "columns=' '\n",
    "np.savetxt(\"A.csv\", A, delimiter=\",\",header=columns)\n",
    "np.savetxt(\"B.csv\", B, delimiter=\",\",header=columns)\n",
    "np.savetxt(\"a_A.csv\", a_A, delimiter=\",\",header=columns)\n",
    "np.savetxt(\"b_A.csv\", b_A, delimiter=\",\",header=columns)\n",
    "np.savetxt(\"a_B.csv\", a_B, delimiter=\",\",header=columns)\n",
    "np.savetxt(\"b_B.csv\", b_B, delimiter=\",\",header=columns)"
   ]
  },
  {
   "cell_type": "code",
   "execution_count": null,
   "metadata": {},
   "outputs": [],
   "source": []
  }
 ],
 "metadata": {
  "kernelspec": {
   "display_name": "Python 3",
   "language": "python",
   "name": "python3"
  },
  "language_info": {
   "codemirror_mode": {
    "name": "ipython",
    "version": 3
   },
   "file_extension": ".py",
   "mimetype": "text/x-python",
   "name": "python",
   "nbconvert_exporter": "python",
   "pygments_lexer": "ipython3",
   "version": "3.6.8"
  }
 },
 "nbformat": 4,
 "nbformat_minor": 2
}
