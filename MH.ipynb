{
 "cells": [
  {
   "cell_type": "code",
   "execution_count": 1,
   "metadata": {},
   "outputs": [],
   "source": [
    "#This performs MH algorithm on a fully-observed birth-death process 0->X->0 with birth parameter A and death parameter B.\n",
    "import pandas as pd\n",
    "import numpy as np\n",
    "from scipy.stats import gamma"
   ]
  },
  {
   "cell_type": "code",
   "execution_count": 2,
   "metadata": {},
   "outputs": [],
   "source": [
    "#import saved data\n",
    "pd_full_x=pd.read_csv(\"full.csv\")\n",
    "full_x= pd_full_x.values\n",
    "pd_full_t=pd.read_csv(\"full_time.csv\")\n",
    "full_t= pd_full_t.values\n",
    "pd_full_react_type=pd.read_csv(\"full_type.csv\")\n",
    "full_react_type= pd_full_react_type.values"
   ]
  },
  {
   "cell_type": "code",
   "execution_count": 3,
   "metadata": {},
   "outputs": [],
   "source": [
    "#initializations and resizing of data\n",
    "N=5000        #length of the chain\n",
    "nt=2000       #number of observations to use \n",
    "A=np.zeros(N)\n",
    "B=np.zeros(N)\n",
    "A[0]=1        #initialize the Markov Chain A\n",
    "B[0]=1        #initialize the Markov Chain B\n",
    "var_A=1       #set proposal variance for A\n",
    "var_B=0.05    #set proposal variance for B\n",
    "Ashape=4.5    #set the shape of the Gamma prior for A\n",
    "Ascale=1      #set the scale of the Gamma prior for A\n",
    "Bshape=0.25   #set the shape of the Gamma prior for B\n",
    "Bscale=1      #set the scale of the Gamma prior for B\n",
    "x=full_x[0:nt]\n",
    "x=np.reshape(x,(1,len(x)))\n",
    "t=full_t[0:nt]\n",
    "t=np.reshape(t,(1,len(t)))\n",
    "react_type=full_react_type[0:nt]\n",
    "react_type=np.reshape(react_type,(1,len(react_type)))"
   ]
  },
  {
   "cell_type": "code",
   "execution_count": 4,
   "metadata": {},
   "outputs": [],
   "source": [
    "def loglikelihood(y,react_type,aa,bb,t):\n",
    "    like=0\n",
    "    size=np.shape(x)\n",
    "    for i in range(1,size[1]):\n",
    "        if react_type[0,i]==0:\n",
    "            like +=np.log(aa)\n",
    "        else:\n",
    "            like +=np.log(bb*y[0,i-1])\n",
    "            \n",
    "    h0_vector=aa+bb*y    \n",
    "    like += -(np.trapz(h0_vector,x=t))    \n",
    "    return like"
   ]
  },
  {
   "cell_type": "code",
   "execution_count": 5,
   "metadata": {},
   "outputs": [],
   "source": [
    "def accept_rate(var,x,react_type,A,B,prop,t,shape,scale1):\n",
    "    if var=='birth':\n",
    "        prop_like=loglikelihood(x,react_type,prop,B,t)+np.log(gamma.pdf(prop,a=shape,scale=scale1))\n",
    "        current_like=loglikelihood(x,react_type,A,B,t)+np.log(gamma.pdf(A,a=shape,scale=scale1))\n",
    "    else:\n",
    "        prop_like=loglikelihood(x,react_type,A,prop,t)+np.log(gamma.pdf(prop,a=shape,scale=scale1))\n",
    "        current_like=loglikelihood(x,react_type,A,B,t)+np.log(gamma.pdf(B,a=shape,scale=scale1))\n",
    "    rate=np.minimum(1,np.exp(prop_like-current_like))\n",
    "    return rate"
   ]
  },
  {
   "cell_type": "code",
   "execution_count": 8,
   "metadata": {},
   "outputs": [],
   "source": [
    "#Perform Gibbs sampling\n",
    "for i in range(N-1):\n",
    "    if i % 2 != 0:     #MH for A\n",
    "        propA=-1\n",
    "        while propA<0:\n",
    "            propA=A[i]+np.random.normal(0,var_A,1)\n",
    "        rate=accept_rate('birth',x,react_type,A[i],B[i],propA,t,Ashape,Ascale)\n",
    "        if np.random.uniform(0,1,1)<rate:\n",
    "            A[i+1]=propA\n",
    "            B[i+1]=B[i]\n",
    "        else:\n",
    "            A[i+1]=A[i]\n",
    "            B[i+1]=B[i]\n",
    "    else:              #MH for B\n",
    "        propB=-1\n",
    "        while propB<0:\n",
    "            propB=B[i]+np.random.normal(0,var_B,1)\n",
    "        rate=accept_rate('death',x,react_type,A[i],B[i],propB,t,Bshape,Bscale)\n",
    "        if np.random.uniform(0,1,1)<rate:\n",
    "            B[i+1]=propB\n",
    "            A[i+1]=A[i]\n",
    "        else:\n",
    "            B[i+1]=B[i]\n",
    "            A[i+1]=A[i]\n",
    "    "
   ]
  },
  {
   "cell_type": "code",
   "execution_count": 12,
   "metadata": {},
   "outputs": [
    {
     "name": "stdout",
     "output_type": "stream",
     "text": [
      "[1.         0.25135111 0.25135111 ... 0.20755311 0.20755311 0.20755311]\n"
     ]
    }
   ],
   "source": [
    "#Diagnostics\n",
    "#thin\n",
    "#show trajectory\n",
    "#show histogram\n",
    "#show autocorelation function\n",
    "print(B)"
   ]
  },
  {
   "cell_type": "code",
   "execution_count": null,
   "metadata": {},
   "outputs": [],
   "source": []
  }
 ],
 "metadata": {
  "kernelspec": {
   "display_name": "Python 3",
   "language": "python",
   "name": "python3"
  },
  "language_info": {
   "codemirror_mode": {
    "name": "ipython",
    "version": 3
   },
   "file_extension": ".py",
   "mimetype": "text/x-python",
   "name": "python",
   "nbconvert_exporter": "python",
   "pygments_lexer": "ipython3",
   "version": "3.6.8"
  }
 },
 "nbformat": 4,
 "nbformat_minor": 2
}
